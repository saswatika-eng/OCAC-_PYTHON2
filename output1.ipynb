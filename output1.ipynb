{
 "cells": [
  {
   "cell_type": "code",
   "execution_count": 2,
   "id": "15e614c7-353b-4308-a4c5-9cd646cd8b7c",
   "metadata": {},
   "outputs": [
    {
     "name": "stdin",
     "output_type": "stream",
     "text": [
      "Enter the value of a:  2\n",
      "Enter the value of b:  3\n"
     ]
    },
    {
     "name": "stdout",
     "output_type": "stream",
     "text": [
      "ADD: 5\n",
      "Sum: 5, Diff: -1, Mult:6, Div:0.6666666666666666, Mod: 2\n"
     ]
    }
   ],
   "source": [
    "a = int(input(\"Enter the value of a: \"))\n",
    "b=int(input(\"Enter the value of b: \"))\n",
    "add=a+b\n",
    "sub=a-b\n",
    "mult=a*b\n",
    "div=a/b\n",
    "mod=a%b\n",
    "print(\"ADD:\", add)\n",
    "print(\"Sum: {0}, Diff: {1}, Mult:{2}, Div:{3}, Mod: {4}\".format(add, sub, mult, div, mod))"
   ]
  },
  {
   "cell_type": "code",
   "execution_count": 4,
   "id": "a4076800-da54-4ca1-8422-62d713fa66c1",
   "metadata": {},
   "outputs": [
    {
     "name": "stdout",
     "output_type": "stream",
     "text": [
      "Sum: 5, Diff: -1, Mult:6, Div:0.6666666666666666, Mod: 2\n"
     ]
    }
   ],
   "source": [
    "print(\"Sum: {}, Diff: {}, Mult:{}, Div:{}, Mod: {}\".format(add, sub, mult, div, mod))"
   ]
  },
  {
   "cell_type": "code",
   "execution_count": 5,
   "id": "a6e6558d-2ca5-4b62-b464-adf26f6566b6",
   "metadata": {},
   "outputs": [
    {
     "name": "stdout",
     "output_type": "stream",
     "text": [
      "Sum: 5, Diff: -1, Mult: 6, Div:       0.666667, Mod:2\n"
     ]
    }
   ],
   "source": [
    "print(\"Sum: %d, Diff: %d, Mult: %d, Div:%15.6f, Mod:%d\" % (add, sub, mult, div, mod))"
   ]
  },
  {
   "cell_type": "code",
   "execution_count": 6,
   "id": "cc66a2dd-6552-48fa-a8a7-915cd6553b2c",
   "metadata": {},
   "outputs": [
    {
     "name": "stdout",
     "output_type": "stream",
     "text": [
      "Sum: 5, Diff: -1, Mult: 6, Div:     0.67, Mod:2\n"
     ]
    }
   ],
   "source": [
    "print(\"Sum: %d, Diff: %d, Mult: %d, Div:%9.2f, Mod:%d\" % (add, sub, mult, div, mod)) "
   ]
  },
  {
   "cell_type": "code",
   "execution_count": 7,
   "id": "6a5de073-0995-4ca0-b8a2-0f7d54dfa2cf",
   "metadata": {},
   "outputs": [
    {
     "name": "stdout",
     "output_type": "stream",
     "text": [
      "Sum  | Diff | Mult |  Div\n",
      "5    |  -1  |  6   | 0.6666666666666666\n"
     ]
    }
   ],
   "source": [
    "print('{0: <4} | {1:^4} | {2:^4} | {3:>4}'.format('Sum', 'Diff', 'Mult', 'Div', 'Mod'))\n",
    "print('{0:<4} | {1:^4} | {2:^4} | {3:>4}'.format(add, sub, mult, div))"
   ]
  },
  {
   "cell_type": "code",
   "execution_count": 8,
   "id": "114bb8a8-0dbf-4d57-95b5-069e9762f514",
   "metadata": {},
   "outputs": [
    {
     "name": "stdout",
     "output_type": "stream",
     "text": [
      "Sum  | Mult | Diff |  Div\n",
      "5    |  6   |  -1  | 0.6666666666666666\n"
     ]
    }
   ],
   "source": [
    "print('{0: <4} | {2:^4} | {1:^4} | {3:>4}'.format('Sum', 'Diff', 'Mult', 'Div', 'Mod'))\n",
    "print('{0:<4} | {2:^4} | {1:^4} | {3:>4}'.format(add, sub, mult, div)) "
   ]
  },
  {
   "cell_type": "code",
   "execution_count": 9,
   "id": "9f27771e-42c4-48e7-acf6-f7afba75799d",
   "metadata": {},
   "outputs": [
    {
     "name": "stdout",
     "output_type": "stream",
     "text": [
      "Welcome to Python Master Class !\n"
     ]
    }
   ],
   "source": [
    "a=\"Master Class\"\n",
    "print(f\"Welcome to Python {a} !\")"
   ]
  },
  {
   "cell_type": "code",
   "execution_count": 10,
   "id": "41df331a-cb08-4e69-8717-c0c703afdbc7",
   "metadata": {},
   "outputs": [
    {
     "name": "stdin",
     "output_type": "stream",
     "text": [
      "Enter a company name -  wipro\n",
      "Enter the number of emplyees -  35665\n"
     ]
    },
    {
     "name": "stdout",
     "output_type": "stream",
     "text": [
      "The name of the company is and the number of emplyees are  wipro 35665\n"
     ]
    }
   ],
   "source": [
    "f = input(\"Enter a company name - \")\n",
    "g = input(\"Enter the number of emplyees - \")\n",
    "print(\"The name of the company is and the number of emplyees are \",f,g)"
   ]
  },
  {
   "cell_type": "code",
   "execution_count": 14,
   "id": "a4cbacc6-2d98-4e21-8692-4aea0c0f718e",
   "metadata": {},
   "outputs": [
    {
     "name": "stdout",
     "output_type": "stream",
     "text": [
      "The name of the company is wipro and the number of emplyees are  35665\n"
     ]
    }
   ],
   "source": [
    "print(\"The name of the company is\",f,\"and the number of emplyees are \",g)"
   ]
  },
  {
   "cell_type": "code",
   "execution_count": 16,
   "id": "c9dc2980-055d-4726-9b2d-23e8a9e93bf9",
   "metadata": {},
   "outputs": [
    {
     "name": "stdout",
     "output_type": "stream",
     "text": [
      "The name of the company is wipro and the number of emplyees are 35665\n"
     ]
    }
   ],
   "source": [
    "print(f\"The name of the company is {f} and the number of emplyees are {g}\")"
   ]
  },
  {
   "cell_type": "code",
   "execution_count": null,
   "id": "726e5c90-d675-492d-9176-b61326089107",
   "metadata": {},
   "outputs": [],
   "source": []
  }
 ],
 "metadata": {
  "kernelspec": {
   "display_name": "Python 3 (ipykernel)",
   "language": "python",
   "name": "python3"
  },
  "language_info": {
   "codemirror_mode": {
    "name": "ipython",
    "version": 3
   },
   "file_extension": ".py",
   "mimetype": "text/x-python",
   "name": "python",
   "nbconvert_exporter": "python",
   "pygments_lexer": "ipython3",
   "version": "3.11.7"
  }
 },
 "nbformat": 4,
 "nbformat_minor": 5
}
