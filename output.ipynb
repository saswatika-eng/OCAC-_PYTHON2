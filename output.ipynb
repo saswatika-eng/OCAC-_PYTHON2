{
 "cells": [
  {
   "cell_type": "code",
   "execution_count": 20,
   "id": "38d5ff3e-04c4-4004-a27f-e1afb7ab7bdc",
   "metadata": {},
   "outputs": [
    {
     "name": "stdout",
     "output_type": "stream",
     "text": [
      "2\n"
     ]
    }
   ],
   "source": [
    "print(2)"
   ]
  },
  {
   "cell_type": "code",
   "execution_count": 2,
   "id": "1de86d22-0294-47e9-a7a4-28f475466e2c",
   "metadata": {},
   "outputs": [
    {
     "name": "stdout",
     "output_type": "stream",
     "text": [
      "lucky\n"
     ]
    }
   ],
   "source": [
    "print(\"lucky\")"
   ]
  },
  {
   "cell_type": "code",
   "execution_count": 3,
   "id": "b4fbaef9-cbd9-4377-9e95-9db11498b2c2",
   "metadata": {},
   "outputs": [
    {
     "name": "stdout",
     "output_type": "stream",
     "text": [
      "adfsgg   13!@##\n"
     ]
    }
   ],
   "source": [
    "print(\"adfsgg   13!@##\")"
   ]
  },
  {
   "cell_type": "code",
   "execution_count": 4,
   "id": "dea46c0b-e508-45e9-9028-4fe707f73193",
   "metadata": {},
   "outputs": [
    {
     "name": "stdout",
     "output_type": "stream",
     "text": [
      "30\n"
     ]
    }
   ],
   "source": [
    "b=30\n",
    "print(b)"
   ]
  },
  {
   "cell_type": "code",
   "execution_count": 5,
   "id": "53c9e9de-a9ac-42df-bdeb-1acb82d107af",
   "metadata": {},
   "outputs": [
    {
     "name": "stdout",
     "output_type": "stream",
     "text": [
      "17\n"
     ]
    }
   ],
   "source": [
    "lucky=17\n",
    "print(lucky)"
   ]
  },
  {
   "cell_type": "code",
   "execution_count": 6,
   "id": "449e1756-dfb0-430f-8a0e-7655ad099a79",
   "metadata": {},
   "outputs": [
    {
     "name": "stdout",
     "output_type": "stream",
     "text": [
      "lucky\n"
     ]
    }
   ],
   "source": [
    "print(\"lucky\")"
   ]
  },
  {
   "cell_type": "code",
   "execution_count": 7,
   "id": "88d1cac1-4d21-454c-95f0-a374193e9743",
   "metadata": {},
   "outputs": [
    {
     "name": "stdout",
     "output_type": "stream",
     "text": [
      "10 19 10 20\n"
     ]
    }
   ],
   "source": [
    "a=10\n",
    "b=19\n",
    "c=10\n",
    "d=20\n",
    "\n",
    "print(a,b,c,d)"
   ]
  },
  {
   "cell_type": "code",
   "execution_count": 8,
   "id": "0d0b4406-5a74-44d7-9fe8-3230add83602",
   "metadata": {},
   "outputs": [
    {
     "name": "stdout",
     "output_type": "stream",
     "text": [
      "2\n"
     ]
    },
    {
     "data": {
      "text/plain": [
       "int"
      ]
     },
     "execution_count": 8,
     "metadata": {},
     "output_type": "execute_result"
    }
   ],
   "source": [
    "a=2\n",
    "print(a)\n",
    "type(a)"
   ]
  },
  {
   "cell_type": "code",
   "execution_count": 9,
   "id": "f55afffa-161d-4ac7-b30f-e85c5d2bbf57",
   "metadata": {},
   "outputs": [
    {
     "name": "stdout",
     "output_type": "stream",
     "text": [
      "2\n"
     ]
    },
    {
     "data": {
      "text/plain": [
       "str"
      ]
     },
     "execution_count": 9,
     "metadata": {},
     "output_type": "execute_result"
    }
   ],
   "source": [
    "a='2'\n",
    "print(a)\n",
    "type(a)"
   ]
  },
  {
   "cell_type": "code",
   "execution_count": 10,
   "id": "7a5df6d4-ba3a-4ee8-b387-b353381b04ae",
   "metadata": {},
   "outputs": [
    {
     "name": "stdout",
     "output_type": "stream",
     "text": [
      "30\n"
     ]
    }
   ],
   "source": [
    "a=10\n",
    "b=20\n",
    "c=a+b\n",
    "print(c)"
   ]
  },
  {
   "cell_type": "code",
   "execution_count": 11,
   "id": "6b60d506-c4e3-4b0f-9074-4919a964bacb",
   "metadata": {},
   "outputs": [
    {
     "name": "stdout",
     "output_type": "stream",
     "text": [
      "30\n"
     ]
    }
   ],
   "source": [
    "a=10\n",
    "b=20\n",
    "print(a+b)"
   ]
  },
  {
   "cell_type": "code",
   "execution_count": 12,
   "id": "118482d7-da37-48fe-ad55-554468e86ff6",
   "metadata": {},
   "outputs": [
    {
     "name": "stdout",
     "output_type": "stream",
     "text": [
      "30\n"
     ]
    }
   ],
   "source": [
    "print(10+20)"
   ]
  },
  {
   "cell_type": "code",
   "execution_count": 13,
   "id": "35436dd7-af6d-4433-b656-d4b5066c9971",
   "metadata": {},
   "outputs": [
    {
     "name": "stdout",
     "output_type": "stream",
     "text": [
      "10 20 30 40\n"
     ]
    }
   ],
   "source": [
    "a=10\n",
    "b=20\n",
    "c=30\n",
    "d=40\n",
    "print(a,b,c,d)"
   ]
  },
  {
   "cell_type": "code",
   "execution_count": 14,
   "id": "bdf355fb-9cb7-4af1-ae98-55e2d04aa8ab",
   "metadata": {},
   "outputs": [
    {
     "name": "stdout",
     "output_type": "stream",
     "text": [
      "10:20:30:40\n"
     ]
    }
   ],
   "source": [
    "a=10\n",
    "b=20\n",
    "c=30\n",
    "d=40\n",
    "print(a,b,c,d,sep=\":\")"
   ]
  },
  {
   "cell_type": "code",
   "execution_count": 15,
   "id": "d93841c3-f5a8-42e7-91e6-a9484da0a711",
   "metadata": {},
   "outputs": [
    {
     "name": "stdout",
     "output_type": "stream",
     "text": [
      "The value of a : 10\n"
     ]
    }
   ],
   "source": [
    "a=10\n",
    "print(\"The value of a :\",a)"
   ]
  },
  {
   "cell_type": "code",
   "execution_count": 16,
   "id": "0514fd41-7e7a-45d3-82bd-cea07f48b186",
   "metadata": {},
   "outputs": [],
   "source": [
    "first_name='drishti'\n",
    "last_name='shristi'"
   ]
  },
  {
   "cell_type": "code",
   "execution_count": 17,
   "id": "9263ea0a-e945-4b3e-aa3d-a82d9a1a4fc2",
   "metadata": {},
   "outputs": [
    {
     "name": "stdout",
     "output_type": "stream",
     "text": [
      "Name shristi drishti\n"
     ]
    }
   ],
   "source": [
    "print(\"Name\",last_name,first_name)"
   ]
  },
  {
   "cell_type": "code",
   "execution_count": 18,
   "id": "79ef69b2-46c5-45b6-a40d-0fb668e1ef20",
   "metadata": {},
   "outputs": [
    {
     "name": "stdout",
     "output_type": "stream",
     "text": [
      "My first name is: drishti and last name is: shristi\n"
     ]
    }
   ],
   "source": [
    "print(\"My first name is:\",first_name,\"and last name is:\",last_name)"
   ]
  },
  {
   "cell_type": "code",
   "execution_count": 19,
   "id": "bad6668c-8624-49d2-9d1e-37efd98a358d",
   "metadata": {},
   "outputs": [
    {
     "name": "stdout",
     "output_type": "stream",
     "text": [
      "My first name is: drishti and last name is: shristi\n"
     ]
    }
   ],
   "source": [
    "print(\"My first name is: {} and last name is: {}\".format(first_name,last_name))"
   ]
  },
  {
   "cell_type": "code",
   "execution_count": 23,
   "id": "483f94d1-018a-405d-a0a4-4d05aeefff2a",
   "metadata": {},
   "outputs": [
    {
     "name": "stdout",
     "output_type": "stream",
     "text": [
      "My first name is: shristi and last name is: shristi\n"
     ]
    }
   ],
   "source": [
    "print(\"My first name is: {first} and last name is: {first}\".format(last=last_name,first=last_name))"
   ]
  },
  {
   "cell_type": "code",
   "execution_count": 24,
   "id": "db7a1e53-d8b5-419a-b87a-06806e1dab08",
   "metadata": {},
   "outputs": [
    {
     "name": "stdout",
     "output_type": "stream",
     "text": [
      "Hello drishti Good Morning drishti\n"
     ]
    }
   ],
   "source": [
    "print(\"Hello {name} {greeting} {name}\".format(name=\"drishti\", greeting=\"Good Morning\"))"
   ]
  },
  {
   "cell_type": "code",
   "execution_count": 25,
   "id": "c9167c05-ab70-4b9e-ac21-75a12f416080",
   "metadata": {},
   "outputs": [
    {
     "name": "stdout",
     "output_type": "stream",
     "text": [
      " The story of Bill, Manfred, and Georg\n"
     ]
    }
   ],
   "source": [
    "print(' The story of {}, {}, and {other}'.format('Bill', 'Manfred',other='Georg'))"
   ]
  },
  {
   "cell_type": "code",
   "execution_count": 27,
   "id": "ed1ef66a-658d-41ee-9bb0-34f36418c71f",
   "metadata": {},
   "outputs": [
    {
     "name": "stdout",
     "output_type": "stream",
     "text": [
      "My number is: 12 and my name is: Sam\n",
      "My number is: 12 and my name is: Sam\n",
      "My number is: 12 and my name is: Sam\n"
     ]
    }
   ],
   "source": [
    "num=12\n",
    "name='Sam'\n",
    "print('My number is: {one} and my name is: {two}'.format(one=num,two=name))\n",
    "print('My number is: {} and my name is: {}'.format(num,name))\n",
    "print(\"My number is:\",num,\"and my name is:\",name)"
   ]
  },
  {
   "cell_type": "code",
   "execution_count": null,
   "id": "115cac6a-8777-4244-ad16-1257cadb4b09",
   "metadata": {},
   "outputs": [],
   "source": []
  }
 ],
 "metadata": {
  "kernelspec": {
   "display_name": "Python 3 (ipykernel)",
   "language": "python",
   "name": "python3"
  },
  "language_info": {
   "codemirror_mode": {
    "name": "ipython",
    "version": 3
   },
   "file_extension": ".py",
   "mimetype": "text/x-python",
   "name": "python",
   "nbconvert_exporter": "python",
   "pygments_lexer": "ipython3",
   "version": "3.11.7"
  }
 },
 "nbformat": 4,
 "nbformat_minor": 5
}
