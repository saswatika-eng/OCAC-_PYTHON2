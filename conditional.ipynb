{
 "cells": [
  {
   "cell_type": "code",
   "execution_count": 1,
   "id": "b09921cc-6357-4cce-9f3d-e0b7563dce29",
   "metadata": {},
   "outputs": [
    {
     "name": "stdout",
     "output_type": "stream",
     "text": [
      "Hi!\n",
      "lucky\n"
     ]
    }
   ],
   "source": [
    "if 1<2:\n",
    "    print('Hi!')\n",
    "    print('lucky')"
   ]
  },
  {
   "cell_type": "code",
   "execution_count": 3,
   "id": "e1ae52c7-ba8c-4269-a0ba-4f7057ff24e4",
   "metadata": {},
   "outputs": [],
   "source": [
    "if 1>2:\n",
    "    print('Hi!')"
   ]
  },
  {
   "cell_type": "code",
   "execution_count": 5,
   "id": "1c095079-4109-4a42-911b-4805c705299f",
   "metadata": {},
   "outputs": [
    {
     "name": "stdout",
     "output_type": "stream",
     "text": [
      "lucky\n"
     ]
    }
   ],
   "source": [
    "if 1>2:\n",
    "    print('Hi!')\n",
    "\n",
    "print(\"lucky\")"
   ]
  },
  {
   "cell_type": "code",
   "execution_count": 6,
   "id": "7973d21b-3790-41dc-a50c-be1ef0326675",
   "metadata": {},
   "outputs": [
    {
     "name": "stdin",
     "output_type": "stream",
     "text": [
      "Enter Name: lucky\n"
     ]
    },
    {
     "name": "stdout",
     "output_type": "stream",
     "text": [
      "Hello lucky Good Morning\n"
     ]
    }
   ],
   "source": [
    "name = input(\"Enter Name:\")\n",
    "if name ==\"lucky\" :\n",
    "    print(\"Hello lucky Good Morning\")"
   ]
  },
  {
   "cell_type": "code",
   "execution_count": 7,
   "id": "a36e097b-2071-4924-9088-bb6085484c41",
   "metadata": {},
   "outputs": [
    {
     "name": "stdout",
     "output_type": "stream",
     "text": [
      "first\n"
     ]
    }
   ],
   "source": [
    "if 1 < 2:\n",
    "    print('first')\n",
    "\n",
    "else:\n",
    "    print('last')"
   ]
  },
  {
   "cell_type": "code",
   "execution_count": 8,
   "id": "be0b3188-ecae-4bb8-86fe-d683ac537e78",
   "metadata": {},
   "outputs": [
    {
     "name": "stdout",
     "output_type": "stream",
     "text": [
      "last\n"
     ]
    }
   ],
   "source": [
    "if 1 > 2:\n",
    "    print('first')\n",
    "\n",
    "else:\n",
    "    print('last')"
   ]
  },
  {
   "cell_type": "code",
   "execution_count": 9,
   "id": "48b766bd-b72b-4ccd-9ee2-9a086b6ac803",
   "metadata": {},
   "outputs": [
    {
     "name": "stdin",
     "output_type": "stream",
     "text": [
      "enter a number 4\n"
     ]
    },
    {
     "name": "stdout",
     "output_type": "stream",
     "text": [
      "4  is even number\n"
     ]
    }
   ],
   "source": [
    "x = int(input('enter a number'))\n",
    "if (x%2 == 0):\n",
    "    print(x,' is even number')\n",
    "\n",
    "else:\n",
    "        print(x,' is odd number')"
   ]
  },
  {
   "cell_type": "code",
   "execution_count": 10,
   "id": "4449b80b-12e2-4900-a044-e32d82b405aa",
   "metadata": {},
   "outputs": [
    {
     "name": "stdin",
     "output_type": "stream",
     "text": [
      "enter name lucky\n"
     ]
    },
    {
     "name": "stdout",
     "output_type": "stream",
     "text": [
      "hello lucky Good Morning\n"
     ]
    }
   ],
   "source": [
    "name = input(\"enter name\")\n",
    "if name == 'lucky':\n",
    "    print(\"hello lucky Good Morning\")\n",
    "\n",
    "else:\n",
    "    print(\"hello\",name,\"Good Morning\")"
   ]
  },
  {
   "cell_type": "code",
   "execution_count": 11,
   "id": "2a28d616-b248-4a4c-873a-0e0b2d10e27e",
   "metadata": {},
   "outputs": [
    {
     "name": "stdout",
     "output_type": "stream",
     "text": [
      "AI\n",
      "ML\n"
     ]
    }
   ],
   "source": [
    "lst = ['one','two','three','four']\n",
    "if 'two' in lst:\n",
    "    print('AI')\n",
    "\n",
    "if 'six' not in lst:\n",
    "    print('ML')"
   ]
  },
  {
   "cell_type": "code",
   "execution_count": 12,
   "id": "4b7c62cb-941e-4ac8-82ad-d1cc2ab59423",
   "metadata": {},
   "outputs": [
    {
     "name": "stdin",
     "output_type": "stream",
     "text": [
      " 7\n"
     ]
    },
    {
     "name": "stdout",
     "output_type": "stream",
     "text": [
      "7 is positive\n"
     ]
    }
   ],
   "source": [
    "a = int(input())\n",
    "if (a>=0):\n",
    "    print(a,'is positive')\n",
    "\n",
    "else:\n",
    "    print(a,'is negative')"
   ]
  },
  {
   "cell_type": "code",
   "execution_count": 14,
   "id": "c4265bd7-faba-4e9d-b68a-a481bbfa55ef",
   "metadata": {},
   "outputs": [
    {
     "name": "stdout",
     "output_type": "stream",
     "text": [
      "6 is even number\n",
      "this is out of IF else block\n"
     ]
    }
   ],
   "source": [
    "x = 6\n",
    "if x%2 == 0:\n",
    "    print(x, \"is even number\")\n",
    "\n",
    "else:\n",
    "    print(x, \"is odd number\")\n",
    "\n",
    "print(\"this is out of IF else block\")"
   ]
  },
  {
   "cell_type": "code",
   "execution_count": 15,
   "id": "4de91629-09d4-4833-87c8-a65476c403e8",
   "metadata": {},
   "outputs": [
    {
     "name": "stdout",
     "output_type": "stream",
     "text": [
      "first\n"
     ]
    }
   ],
   "source": [
    "if 2 ==2 :\n",
    "    print('first')\n",
    "\n",
    "elif 3 == 3:\n",
    "    print('middle')"
   ]
  },
  {
   "cell_type": "code",
   "execution_count": 17,
   "id": "aadbc395-b251-4be6-90b8-17974f17c894",
   "metadata": {},
   "outputs": [
    {
     "name": "stdout",
     "output_type": "stream",
     "text": [
      "Grade C\n"
     ]
    }
   ],
   "source": [
    "y = 52\n",
    "if y>90:\n",
    "    print(\"Grade A\")\n",
    "\n",
    "elif y>60:\n",
    "    print(\"Grade B\")\n",
    "\n",
    "elif y>40:\n",
    "    print(\"Grade C\")\n",
    "\n",
    "else:\n",
    "    print(\"Grade F\")"
   ]
  },
  {
   "cell_type": "code",
   "execution_count": 18,
   "id": "dfe8957c-c8c1-4299-a90a-d905edbdddb3",
   "metadata": {},
   "outputs": [
    {
     "name": "stdout",
     "output_type": "stream",
     "text": [
      "I am in elif block\n",
      "x is negative\n"
     ]
    }
   ],
   "source": [
    "x = -45.99\n",
    "if((x>0) or (x ==-100)):\n",
    "    print(\"x is positive value or -100\")\n",
    "    print(\"I am if loop\")\n",
    "\n",
    "elif (x<0):\n",
    "   \n",
    "    print(\"I am in elif block\")\n",
    "    print(\"x is negative\")\n",
    "\n",
    "else:\n",
    "    print(\"x is zero\")"
   ]
  },
  {
   "cell_type": "code",
   "execution_count": 19,
   "id": "ac1a08c4-658d-4419-bbe9-4b8b15d1ec26",
   "metadata": {},
   "outputs": [
    {
     "name": "stdout",
     "output_type": "stream",
     "text": [
      "negative\n",
      "I am out of IF block\n"
     ]
    }
   ],
   "source": [
    "x = -20\n",
    "if x > 0:\n",
    "    print('positive')\n",
    "    print('hello')\n",
    "\n",
    "elif x == 0:\n",
    "    print('zero')\n",
    "\n",
    "else:\n",
    "    print('negative')\n",
    "\n",
    "print(\"I am out of IF block\")"
   ]
  },
  {
   "cell_type": "code",
   "execution_count": 20,
   "id": "497c2bec-1573-45cc-ad38-eec72ce68c64",
   "metadata": {},
   "outputs": [
    {
     "name": "stdin",
     "output_type": "stream",
     "text": [
      "enter your favourite brand: FO\n"
     ]
    },
    {
     "name": "stdout",
     "output_type": "stream",
     "text": [
      "Buy one get Free One\n"
     ]
    }
   ],
   "source": [
    "brand = input(\"enter your favourite brand:\")\n",
    "if brand == 'RC':\n",
    "    print(\"It is childrens brand\")\n",
    "\n",
    "elif brand == 'KF':\n",
    "    print(\"It is not that much kick\")\n",
    "\n",
    "elif brand == 'FO':\n",
    "    print(\"Buy one get Free One\")\n",
    "\n",
    "elif brand == 'RC':\n",
    "    print(\"It is brand\")\n",
    "\n",
    "else:\n",
    "    print(\"Other brands are not recommended\")"
   ]
  },
  {
   "cell_type": "code",
   "execution_count": 21,
   "id": "4d2294bd-8545-4a4f-ae6a-7b646d1ca9ec",
   "metadata": {},
   "outputs": [
    {
     "name": "stdout",
     "output_type": "stream",
     "text": [
      "All is well with the world\n"
     ]
    },
    {
     "name": "stderr",
     "output_type": "stream",
     "text": [
      "<>:1: SyntaxWarning: \"is\" with a literal. Did you mean \"==\"?\n",
      "<>:1: SyntaxWarning: \"is\" with a literal. Did you mean \"==\"?\n",
      "C:\\Users\\Acer\\AppData\\Local\\Temp\\ipykernel_28900\\697433195.py:1: SyntaxWarning: \"is\" with a literal. Did you mean \"==\"?\n",
      "  if 1 is 3:\n"
     ]
    }
   ],
   "source": [
    "if 1 is 3:\n",
    "    print(\"How did that happen?\")\n",
    "\n",
    "elif 1 >3:\n",
    "    print(\"Yikes\")\n",
    "\n",
    "else:\n",
    "    print(\"All is well with the world\")"
   ]
  },
  {
   "cell_type": "code",
   "execution_count": 22,
   "id": "1e49059c-802f-4b7c-9c6b-1205ff129466",
   "metadata": {},
   "outputs": [
    {
     "name": "stdin",
     "output_type": "stream",
     "text": [
      "enter marks: 80\n"
     ]
    },
    {
     "name": "stdout",
     "output_type": "stream",
     "text": [
      "80 B grade\n"
     ]
    }
   ],
   "source": [
    "a = int(float(input('enter marks:')))\n",
    "\n",
    "if (a>85 and a<=100):\n",
    "    print(a, 'A grade')\n",
    "\n",
    "elif(a<=85 and a>75):\n",
    "    print(a, 'B grade')\n",
    "\n",
    "elif(a<=75 and a>65):\n",
    "    print(a, 'C grade')\n",
    "\n",
    "elif(a<=65 and a>55):\n",
    "    print(a, 'D grade')\n",
    "\n",
    "elif(a<=55 and a>45):\n",
    "    print(a, 'E grade')\n",
    "\n",
    "else:\n",
    "    print(a,'Fail')"
   ]
  },
  {
   "cell_type": "code",
   "execution_count": 23,
   "id": "bf9dfc95-6514-4a32-9de2-96d422226bc6",
   "metadata": {},
   "outputs": [
    {
     "name": "stdin",
     "output_type": "stream",
     "text": [
      "enter first number 5\n",
      "enter second number 54\n"
     ]
    },
    {
     "name": "stdout",
     "output_type": "stream",
     "text": [
      "Biggest number is: 54\n"
     ]
    }
   ],
   "source": [
    "n1 = int(input(\"enter first number\"))\n",
    "n2 = int(input(\"enter second number\"))\n",
    "if n1>n2:\n",
    "    print(\"Biggest number is:\",n1)\n",
    "\n",
    "else:\n",
    "    print(\"Biggest number is:\",n2)\n"
   ]
  },
  {
   "cell_type": "code",
   "execution_count": 24,
   "id": "5861551d-fb89-47ad-bc0b-b49ccc0e762d",
   "metadata": {},
   "outputs": [
    {
     "name": "stdin",
     "output_type": "stream",
     "text": [
      "enter first number 5\n",
      "enter second number 4\n",
      "enter third number 6\n"
     ]
    },
    {
     "name": "stdout",
     "output_type": "stream",
     "text": [
      "6 is the largest\n"
     ]
    }
   ],
   "source": [
    "n1 = int(input(\"enter first number\"))\n",
    "n2 = int(input(\"enter second number\"))\n",
    "n3 = int(input(\"enter third number\"))\n",
    "if n1>n2 and n1>n3:\n",
    "        print(n1, \"is the largest\")\n",
    "\n",
    "elif n2>n3:\n",
    "        print(n2, \"is the largest\")\n",
    "\n",
    "else:\n",
    "        print(n3, \"is the largest\")"
   ]
  },
  {
   "cell_type": "code",
   "execution_count": 25,
   "id": "f94202ac-bdc9-447f-a921-9ad4508fd8ec",
   "metadata": {},
   "outputs": [
    {
     "name": "stdin",
     "output_type": "stream",
     "text": [
      "enter first string: lucky\n",
      "enter second string: lucky\n"
     ]
    },
    {
     "name": "stdout",
     "output_type": "stream",
     "text": [
      "Both strings are equal\n"
     ]
    }
   ],
   "source": [
    "s1 = input(\"enter first string:\")\n",
    "s2 = input(\"enter second string:\")\n",
    "if s1 == s2:\n",
    "    print(\"Both strings are equal\")\n",
    "\n",
    "elif s1<s2:\n",
    "    print(\"first string is less than second string\")\n",
    "\n",
    "else:\n",
    "    print(\"first string is greater than second string\")"
   ]
  },
  {
   "cell_type": "code",
   "execution_count": 26,
   "id": "d05d706c-f079-4408-9d9a-892dcb970327",
   "metadata": {},
   "outputs": [
    {
     "name": "stdout",
     "output_type": "stream",
     "text": [
      "negative number\n"
     ]
    }
   ],
   "source": [
    "num = 10\n",
    "if num>=0:\n",
    "    if num == 0:\n",
    "        print(\"not\")\n",
    "\n",
    "    else:\n",
    "         print(\"negative number\")\n",
    "else:\n",
    "    print(\"positive number\")\n"
   ]
  },
  {
   "cell_type": "code",
   "execution_count": 28,
   "id": "3f360a51-2cf0-4ed4-9bb6-41d6663c18d7",
   "metadata": {},
   "outputs": [
    {
     "name": "stdout",
     "output_type": "stream",
     "text": [
      "less than 3\n",
      "fdrsrtd\n"
     ]
    }
   ],
   "source": [
    "i = 2.1\n",
    "if(i < 3):\n",
    "    print('less than 3')\n",
    "    if i>2:\n",
    "        print(\"fdrsrtd\")\n",
    "\n",
    "elif i < 5 :\n",
    "    print('less than 5')\n",
    "\n",
    "else:\n",
    "    print('5 or more')"
   ]
  },
  {
   "cell_type": "code",
   "execution_count": 29,
   "id": "887f9345-273c-4e1e-be19-e39d4445c6aa",
   "metadata": {},
   "outputs": [
    {
     "name": "stdin",
     "output_type": "stream",
     "text": [
      "enter your pin 1234\n",
      "with draw amount: 20000\n"
     ]
    },
    {
     "name": "stdout",
     "output_type": "stream",
     "text": [
      "20000 successfully transaction completed\n"
     ]
    }
   ],
   "source": [
    "amount = 20000\n",
    "pin = 1234\n",
    "if(int(input('enter your pin'))==1234):\n",
    "    with_draw=int(input('with draw amount:'))\n",
    "    if (with_draw <= amount):\n",
    "        print(with_draw,'successfully transaction completed')\n",
    "    else:\n",
    "        print(with_draw,' not sufficient funds in your account')\n",
    "\n",
    "else:\n",
    "    print('invalid pin number')"
   ]
  },
  {
   "cell_type": "code",
   "execution_count": null,
   "id": "52d1f148-6a04-492d-8784-9442867d1d24",
   "metadata": {},
   "outputs": [],
   "source": []
  }
 ],
 "metadata": {
  "kernelspec": {
   "display_name": "Python 3 (ipykernel)",
   "language": "python",
   "name": "python3"
  },
  "language_info": {
   "codemirror_mode": {
    "name": "ipython",
    "version": 3
   },
   "file_extension": ".py",
   "mimetype": "text/x-python",
   "name": "python",
   "nbconvert_exporter": "python",
   "pygments_lexer": "ipython3",
   "version": "3.11.7"
  }
 },
 "nbformat": 4,
 "nbformat_minor": 5
}
