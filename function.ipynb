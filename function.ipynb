{
 "cells": [
  {
   "cell_type": "code",
   "execution_count": 1,
   "id": "a52e9dfc-06c8-4507-93b6-37791c2afe91",
   "metadata": {},
   "outputs": [
    {
     "data": {
      "text/plain": [
       "100"
      ]
     },
     "execution_count": 1,
     "metadata": {},
     "output_type": "execute_result"
    }
   ],
   "source": [
    "num = -100\n",
    "abs(num)"
   ]
  },
  {
   "cell_type": "code",
   "execution_count": 2,
   "id": "c4760d5a-2005-432a-9bca-9442d769c9dc",
   "metadata": {},
   "outputs": [
    {
     "data": {
      "text/plain": [
       "(1, 2)"
      ]
     },
     "execution_count": 2,
     "metadata": {},
     "output_type": "execute_result"
    }
   ],
   "source": [
    "divmod(6,4)"
   ]
  },
  {
   "cell_type": "code",
   "execution_count": 3,
   "id": "2e675cc7-e30c-49ac-9729-d66a1e9923c7",
   "metadata": {},
   "outputs": [],
   "source": [
    "def double(num):\n",
    "    '''\n",
    "    code\n",
    "    '''\n",
    "    return 2 * num"
   ]
  },
  {
   "cell_type": "code",
   "execution_count": 4,
   "id": "2a8c5631-1e3f-4b32-9d10-e2ebec913c87",
   "metadata": {},
   "outputs": [
    {
     "name": "stdout",
     "output_type": "stream",
     "text": [
      "\n",
      "    code\n",
      "    \n"
     ]
    }
   ],
   "source": [
    "print(double.__doc__)"
   ]
  },
  {
   "cell_type": "code",
   "execution_count": 5,
   "id": "26964162-5658-4a65-be79-855b99981628",
   "metadata": {},
   "outputs": [
    {
     "data": {
      "text/plain": [
       "20"
      ]
     },
     "execution_count": 5,
     "metadata": {},
     "output_type": "execute_result"
    }
   ],
   "source": [
    "double(10)"
   ]
  },
  {
   "cell_type": "code",
   "execution_count": 6,
   "id": "277905dd-9768-45bc-bb72-6bd36434b9ef",
   "metadata": {},
   "outputs": [],
   "source": [
    "def double(num):\n",
    "    return 2*int(num)"
   ]
  },
  {
   "cell_type": "code",
   "execution_count": 7,
   "id": "8a92fc77-c8b6-4576-92c4-a4b2346d3517",
   "metadata": {},
   "outputs": [
    {
     "data": {
      "text/plain": [
       "20"
      ]
     },
     "execution_count": 7,
     "metadata": {},
     "output_type": "execute_result"
    }
   ],
   "source": [
    "double(10.7)"
   ]
  },
  {
   "cell_type": "code",
   "execution_count": 8,
   "id": "a8451546-8a90-492f-8d30-60eca96f75c6",
   "metadata": {},
   "outputs": [
    {
     "data": {
      "text/plain": [
       "2"
      ]
     },
     "execution_count": 8,
     "metadata": {},
     "output_type": "execute_result"
    }
   ],
   "source": [
    "def sub(num1,num2):\n",
    "    return num1-num2\n",
    "\n",
    "sub(4,2)"
   ]
  },
  {
   "cell_type": "code",
   "execution_count": 9,
   "id": "8a92a5e1-f2a9-46cd-8f0a-b273db9be653",
   "metadata": {},
   "outputs": [],
   "source": [
    "def print_name(x):\n",
    "    print(\"Hello\",x)"
   ]
  },
  {
   "cell_type": "code",
   "execution_count": 10,
   "id": "a3e62e57-7c75-4f4d-ab84-ea1f50989a91",
   "metadata": {},
   "outputs": [
    {
     "name": "stdout",
     "output_type": "stream",
     "text": [
      "Hello siva\n"
     ]
    }
   ],
   "source": [
    "print_name(\"siva\")"
   ]
  },
  {
   "cell_type": "code",
   "execution_count": 11,
   "id": "2368fed7-24fa-428e-b6eb-ee37dcc06eab",
   "metadata": {},
   "outputs": [
    {
     "name": "stdout",
     "output_type": "stream",
     "text": [
      "Hello 125\n"
     ]
    }
   ],
   "source": [
    "print_name(125)"
   ]
  },
  {
   "cell_type": "code",
   "execution_count": 13,
   "id": "8b583a2e-fce3-442b-b142-be70c9f3a6d6",
   "metadata": {},
   "outputs": [
    {
     "data": {
      "text/plain": [
       "10"
      ]
     },
     "execution_count": 13,
     "metadata": {},
     "output_type": "execute_result"
    }
   ],
   "source": [
    "def get_sum(lst):\n",
    "    sum = 0\n",
    "    for num in lst:\n",
    "        sum += num\n",
    "    return sum\n",
    "\n",
    "get_sum([1,2,3,4])"
   ]
  },
  {
   "cell_type": "code",
   "execution_count": 14,
   "id": "5d51c6a6-5e95-43f8-be12-397e3780f75f",
   "metadata": {},
   "outputs": [
    {
     "name": "stdout",
     "output_type": "stream",
     "text": [
      "5\n",
      "10\n",
      "15\n",
      "20\n",
      "25\n",
      "30\n",
      "40\n",
      "45\n"
     ]
    }
   ],
   "source": [
    "def num_5_7(i):\n",
    "    for num in range(1,i):\n",
    "        if num%5 == 0 and num%7 != 0:\n",
    "            print(num)\n",
    "\n",
    "num_5_7(50)"
   ]
  },
  {
   "cell_type": "code",
   "execution_count": 15,
   "id": "b2157576-b9f6-4408-83a0-728dbf808c79",
   "metadata": {},
   "outputs": [
    {
     "name": "stdout",
     "output_type": "stream",
     "text": [
      "6 9\n"
     ]
    }
   ],
   "source": [
    "lst = [1,2,3,4,5]\n",
    "\n",
    "even_sum=0\n",
    "odd_sum=0\n",
    "for i in lst:\n",
    "    if i%2 == 0:\n",
    "        even_sum=even_sum+i\n",
    "    else:\n",
    "        odd_sum=odd_sum+i\n",
    "\n",
    "print(even_sum,odd_sum)\n",
    "    "
   ]
  },
  {
   "cell_type": "code",
   "execution_count": 44,
   "id": "b0edfaa7-7810-497e-bca3-e1306e833855",
   "metadata": {},
   "outputs": [
    {
     "name": "stdout",
     "output_type": "stream",
     "text": [
      "6 9\n"
     ]
    }
   ],
   "source": [
    "def f_n(l):\n",
    "    even_sum = 0\n",
    "    odd_sum = 0\n",
    "    for i in l:\n",
    "        if i%2 == 0:\n",
    "            even_sum = even_sum+i\n",
    "        else:\n",
    "            odd_sum = odd_sum+i\n",
    "\n",
    "print(even_sum,odd_sum)\n",
    "\n",
    "f_n([1,2,3,4,5])"
   ]
  },
  {
   "cell_type": "code",
   "execution_count": 46,
   "id": "3671ee58-65b4-4ba3-b1cf-1734dc8e073c",
   "metadata": {},
   "outputs": [
    {
     "name": "stdout",
     "output_type": "stream",
     "text": [
      "Hello satish , Good Morning\n"
     ]
    }
   ],
   "source": [
    "def greet(name, msg):\n",
    "    print(\"Hello {} , {}\".format(name, msg))\n",
    "\n",
    "greet(\"satish\", \"Good Morning\")"
   ]
  },
  {
   "cell_type": "code",
   "execution_count": 47,
   "id": "37c4ae67-388d-4eda-b380-ae5b6c98e536",
   "metadata": {},
   "outputs": [
    {
     "ename": "TypeError",
     "evalue": "greet() missing 1 required positional argument: 'msg'",
     "output_type": "error",
     "traceback": [
      "\u001b[1;31m---------------------------------------------------------------------------\u001b[0m",
      "\u001b[1;31mTypeError\u001b[0m                                 Traceback (most recent call last)",
      "Cell \u001b[1;32mIn[47], line 1\u001b[0m\n\u001b[1;32m----> 1\u001b[0m greet(\u001b[38;5;124m\"\u001b[39m\u001b[38;5;124msatish\u001b[39m\u001b[38;5;124m\"\u001b[39m)\n",
      "\u001b[1;31mTypeError\u001b[0m: greet() missing 1 required positional argument: 'msg'"
     ]
    }
   ],
   "source": [
    "greet(\"satish\")"
   ]
  },
  {
   "cell_type": "code",
   "execution_count": 48,
   "id": "4871e79f-c8ca-4438-ac81-ea68b55a0687",
   "metadata": {},
   "outputs": [],
   "source": [
    "def even_num():\n",
    "    lb=int(input('enter lower bound values:'))\n",
    "    ub=int(input('enter upper bound values:'))\n",
    "    for i in range(lb,ub+1):\n",
    "        if i%2==0:\n",
    "            print(i)\n",
    "           "
   ]
  },
  {
   "cell_type": "code",
   "execution_count": 49,
   "id": "05ff19b4-14dd-4574-8718-53a6614cbc44",
   "metadata": {},
   "outputs": [
    {
     "name": "stdin",
     "output_type": "stream",
     "text": [
      "enter lower bound values: 10\n",
      "enter upper bound values: 40\n"
     ]
    },
    {
     "name": "stdout",
     "output_type": "stream",
     "text": [
      "10\n",
      "12\n",
      "14\n",
      "16\n",
      "18\n",
      "20\n",
      "22\n",
      "24\n",
      "26\n",
      "28\n",
      "30\n",
      "32\n",
      "34\n",
      "36\n",
      "38\n",
      "40\n"
     ]
    }
   ],
   "source": [
    "even_num()"
   ]
  },
  {
   "cell_type": "code",
   "execution_count": 50,
   "id": "85691b8c-f7c5-4fd2-9985-e44c3b09e558",
   "metadata": {},
   "outputs": [
    {
     "name": "stdout",
     "output_type": "stream",
     "text": [
      "Hello satish ,Good Night\n"
     ]
    }
   ],
   "source": [
    "def greet(name, msg=\"Good Morning\"):\n",
    "    print(\"Hello {} ,{}\".format(name, msg))\n",
    "\n",
    "greet(\"satish\", \"Good Night\")"
   ]
  },
  {
   "cell_type": "code",
   "execution_count": 51,
   "id": "5428da43-018e-4ef0-9718-14c85b1b0f7a",
   "metadata": {},
   "outputs": [
    {
     "name": "stdout",
     "output_type": "stream",
     "text": [
      "Hello satish ,Good Morning\n"
     ]
    }
   ],
   "source": [
    "greet(\"satish\")"
   ]
  },
  {
   "cell_type": "code",
   "execution_count": 52,
   "id": "44e32989-625e-4ab2-be36-d707d76942eb",
   "metadata": {},
   "outputs": [
    {
     "name": "stdout",
     "output_type": "stream",
     "text": [
      "Hello good , Good Morning\n"
     ]
    }
   ],
   "source": [
    "def greet(**kwargs):\n",
    "    if kwargs:\n",
    "        print(\"Hello {} , {}\".format(kwargs['name'], kwargs['msg']))\n",
    "\n",
    "greet(name=\"good\", msg=\"Good Morning\")"
   ]
  },
  {
   "cell_type": "code",
   "execution_count": 53,
   "id": "8a21e204-1451-4386-9bf4-9cb33bd542d9",
   "metadata": {},
   "outputs": [],
   "source": [
    "def greet(*names):\n",
    "    print(names)\n",
    "    for name in names:\n",
    "        print(\"Hello, {0} \".format(name))"
   ]
  },
  {
   "cell_type": "code",
   "execution_count": 54,
   "id": "0e4693d8-cc4e-47a3-9149-06188a58a4bd",
   "metadata": {},
   "outputs": [
    {
     "name": "stdout",
     "output_type": "stream",
     "text": [
      "('satish', 'murali')\n",
      "Hello, satish \n",
      "Hello, murali \n"
     ]
    }
   ],
   "source": [
    "greet(\"satish\", \"murali\")"
   ]
  },
  {
   "cell_type": "code",
   "execution_count": 55,
   "id": "96bb3212-2282-403c-be9e-d91619af16a6",
   "metadata": {},
   "outputs": [],
   "source": [
    "def factorial(num):\n",
    "    if num==0:\n",
    "        return 1\n",
    "    else:\n",
    "        return num * factorial(num-1)"
   ]
  },
  {
   "cell_type": "code",
   "execution_count": 56,
   "id": "c57878ff-f0e5-47a1-a30e-e58ccffce550",
   "metadata": {},
   "outputs": [
    {
     "name": "stdout",
     "output_type": "stream",
     "text": [
      "Factorial of 5 is 120\n"
     ]
    }
   ],
   "source": [
    "num = 5\n",
    "print(\"Factorial of {} is {}\".format(num,factorial(num)))"
   ]
  },
  {
   "cell_type": "code",
   "execution_count": 57,
   "id": "ea34ed29-b862-4ec4-8b36-3cbac6d280f6",
   "metadata": {},
   "outputs": [
    {
     "name": "stdout",
     "output_type": "stream",
     "text": [
      "Select Option\n",
      "1. Addition\n",
      "2. Subtraction\n",
      "3. Multiplication\n",
      "4. Division\n"
     ]
    },
    {
     "name": "stdin",
     "output_type": "stream",
     "text": [
      "enter choice 1/2/3/4:   4\n",
      "enter first number:  10\n",
      "enter second number:  5\n"
     ]
    },
    {
     "name": "stdout",
     "output_type": "stream",
     "text": [
      "Division of 10 and 5 is 2.0\n"
     ]
    }
   ],
   "source": [
    "def add(a,b):\n",
    "    return a+b\n",
    "\n",
    "def multiply(a,b):\n",
    "    return a*b\n",
    "\n",
    "def subtract(a,b):\n",
    "    return a-b\n",
    "\n",
    "def division(a, b):\n",
    "    return a/b\n",
    "\n",
    "print(\"Select Option\")\n",
    "print(\"1. Addition\")\n",
    "print(\"2. Subtraction\")\n",
    "print(\"3. Multiplication\")\n",
    "print(\"4. Division\")\n",
    "\n",
    "choice = int(input(\"enter choice 1/2/3/4:  \"))\n",
    "\n",
    "num1 = int(input(\"enter first number: \"))\n",
    "num2 = int(input(\"enter second number: \"))\n",
    "if choice == 1:\n",
    "    print(\"Addition of {} and {} is {}\".format(num1,num2, add(num1, num2)))\n",
    "elif choice == 2:\n",
    "    print(\"Subtraction of {} and {} is {}\".format(num1,num2, subtract(num1, num2)))\n",
    "elif choice == 3:\n",
    "    print(\"Multiplication of {} and {} is {}\".format(num1,num2, multiply(num1, num2)))\n",
    "elif choice == 4:\n",
    "    print(\"Division of {} and {} is {}\".format(num1,num2, division(num1, num2)))\n",
    "else:\n",
    "    print(\"Invalid choice\")"
   ]
  },
  {
   "cell_type": "code",
   "execution_count": null,
   "id": "0209f4b8-f501-4239-a181-e4b9fca6a60c",
   "metadata": {},
   "outputs": [],
   "source": []
  }
 ],
 "metadata": {
  "kernelspec": {
   "display_name": "Python 3 (ipykernel)",
   "language": "python",
   "name": "python3"
  },
  "language_info": {
   "codemirror_mode": {
    "name": "ipython",
    "version": 3
   },
   "file_extension": ".py",
   "mimetype": "text/x-python",
   "name": "python",
   "nbconvert_exporter": "python",
   "pygments_lexer": "ipython3",
   "version": "3.11.7"
  }
 },
 "nbformat": 4,
 "nbformat_minor": 5
}
