{
 "cells": [
  {
   "cell_type": "code",
   "execution_count": 1,
   "id": "1051395a-d693-4f2f-bd6f-5dcb600108ff",
   "metadata": {},
   "outputs": [],
   "source": [
    "a=10"
   ]
  },
  {
   "cell_type": "code",
   "execution_count": 2,
   "id": "9057e573-5fa7-4017-990b-6f0c9544bbd1",
   "metadata": {},
   "outputs": [
    {
     "data": {
      "text/plain": [
       "int"
      ]
     },
     "execution_count": 2,
     "metadata": {},
     "output_type": "execute_result"
    }
   ],
   "source": [
    "type(a)"
   ]
  },
  {
   "cell_type": "code",
   "execution_count": 3,
   "id": "fcf81909-8032-4027-afcc-a06fe46f1438",
   "metadata": {},
   "outputs": [
    {
     "data": {
      "text/plain": [
       "float"
      ]
     },
     "execution_count": 3,
     "metadata": {},
     "output_type": "execute_result"
    }
   ],
   "source": [
    "a=10.0\n",
    "type(a)"
   ]
  },
  {
   "cell_type": "code",
   "execution_count": 5,
   "id": "e868e1c5-059e-437d-a3b0-6e8d72ffc59c",
   "metadata": {},
   "outputs": [
    {
     "name": "stdout",
     "output_type": "stream",
     "text": [
      "<class 'int'>\n",
      "<class 'float'>\n"
     ]
    }
   ],
   "source": [
    "a= 3\n",
    "print(type(a))\n",
    "\n",
    "b=3.0\n",
    "print(type(b))"
   ]
  },
  {
   "cell_type": "code",
   "execution_count": 6,
   "id": "e7e96b2d-38e5-4e5c-bb21-890454eecea6",
   "metadata": {},
   "outputs": [
    {
     "data": {
      "text/plain": [
       "8.0"
      ]
     },
     "execution_count": 6,
     "metadata": {},
     "output_type": "execute_result"
    }
   ],
   "source": [
    "a=3\n",
    "b=5.0\n",
    "a+b"
   ]
  },
  {
   "cell_type": "code",
   "execution_count": 7,
   "id": "66a6d1e7-6e27-4b40-b763-a1af60308db5",
   "metadata": {},
   "outputs": [
    {
     "data": {
      "text/plain": [
       "5"
      ]
     },
     "execution_count": 7,
     "metadata": {},
     "output_type": "execute_result"
    }
   ],
   "source": [
    "b=5.9\n",
    "int(b)"
   ]
  },
  {
   "cell_type": "code",
   "execution_count": 8,
   "id": "3246e4ac-53f5-4c3a-a62a-7bcff150d109",
   "metadata": {},
   "outputs": [
    {
     "data": {
      "text/plain": [
       "10"
      ]
     },
     "execution_count": 8,
     "metadata": {},
     "output_type": "execute_result"
    }
   ],
   "source": [
    "int(10.9999)"
   ]
  },
  {
   "cell_type": "code",
   "execution_count": 9,
   "id": "4cd0d66d-96d2-4845-938e-96d9929d8848",
   "metadata": {},
   "outputs": [
    {
     "data": {
      "text/plain": [
       "bool"
      ]
     },
     "execution_count": 9,
     "metadata": {},
     "output_type": "execute_result"
    }
   ],
   "source": [
    "b1=True\n",
    "type(b1)"
   ]
  },
  {
   "cell_type": "code",
   "execution_count": 10,
   "id": "eb8fded9-9e84-44d0-85c2-4bd43b697cc0",
   "metadata": {},
   "outputs": [
    {
     "data": {
      "text/plain": [
       "bool"
      ]
     },
     "execution_count": 10,
     "metadata": {},
     "output_type": "execute_result"
    }
   ],
   "source": [
    "type(True)"
   ]
  },
  {
   "cell_type": "code",
   "execution_count": 11,
   "id": "1163b6f0-f62f-4034-90bc-3b6e2c36e3ed",
   "metadata": {},
   "outputs": [
    {
     "data": {
      "text/plain": [
       "bool"
      ]
     },
     "execution_count": 11,
     "metadata": {},
     "output_type": "execute_result"
    }
   ],
   "source": [
    "type(False)"
   ]
  },
  {
   "cell_type": "code",
   "execution_count": 12,
   "id": "0666b52a-f104-4cdd-afa3-9b4cf2aa7a87",
   "metadata": {},
   "outputs": [
    {
     "data": {
      "text/plain": [
       "1"
      ]
     },
     "execution_count": 12,
     "metadata": {},
     "output_type": "execute_result"
    }
   ],
   "source": [
    "int(True)"
   ]
  },
  {
   "cell_type": "code",
   "execution_count": 13,
   "id": "5d5d1055-b776-4c09-8fe9-ca721ae3acda",
   "metadata": {},
   "outputs": [
    {
     "data": {
      "text/plain": [
       "0"
      ]
     },
     "execution_count": 13,
     "metadata": {},
     "output_type": "execute_result"
    }
   ],
   "source": [
    "int(False)"
   ]
  },
  {
   "cell_type": "code",
   "execution_count": 14,
   "id": "9f172de9-00aa-4dc3-997b-2c2366773212",
   "metadata": {},
   "outputs": [
    {
     "data": {
      "text/plain": [
       "2"
      ]
     },
     "execution_count": 14,
     "metadata": {},
     "output_type": "execute_result"
    }
   ],
   "source": [
    "True + True"
   ]
  },
  {
   "cell_type": "code",
   "execution_count": 15,
   "id": "6630f7e3-e123-44e6-8d49-1e561e638a82",
   "metadata": {},
   "outputs": [
    {
     "data": {
      "text/plain": [
       "3.9"
      ]
     },
     "execution_count": 15,
     "metadata": {},
     "output_type": "execute_result"
    }
   ],
   "source": [
    "b= 3.9\n",
    "c = False\n",
    "b+c"
   ]
  },
  {
   "cell_type": "code",
   "execution_count": 16,
   "id": "b200bdf9-365d-41fb-be94-d98ae803df11",
   "metadata": {},
   "outputs": [],
   "source": [
    "x=10+20j"
   ]
  },
  {
   "cell_type": "code",
   "execution_count": 17,
   "id": "3ce31c56-b806-422c-bbcf-dac8bad7bb0d",
   "metadata": {},
   "outputs": [
    {
     "data": {
      "text/plain": [
       "complex"
      ]
     },
     "execution_count": 17,
     "metadata": {},
     "output_type": "execute_result"
    }
   ],
   "source": [
    "type(x)"
   ]
  },
  {
   "cell_type": "code",
   "execution_count": 18,
   "id": "9a08db19-37be-41a4-9464-83c108f22986",
   "metadata": {},
   "outputs": [
    {
     "data": {
      "text/plain": [
       "10.0"
      ]
     },
     "execution_count": 18,
     "metadata": {},
     "output_type": "execute_result"
    }
   ],
   "source": [
    "x.real"
   ]
  },
  {
   "cell_type": "code",
   "execution_count": 19,
   "id": "030fed51-6257-4faa-8def-aa0267a23e75",
   "metadata": {},
   "outputs": [
    {
     "data": {
      "text/plain": [
       "20.0"
      ]
     },
     "execution_count": 19,
     "metadata": {},
     "output_type": "execute_result"
    }
   ],
   "source": [
    "x.imag"
   ]
  },
  {
   "cell_type": "code",
   "execution_count": 20,
   "id": "f4a95086-c9b5-4356-8688-88efa756b0d9",
   "metadata": {},
   "outputs": [
    {
     "data": {
      "text/plain": [
       "20"
      ]
     },
     "execution_count": 20,
     "metadata": {},
     "output_type": "execute_result"
    }
   ],
   "source": [
    "int(x.imag)"
   ]
  },
  {
   "cell_type": "code",
   "execution_count": 21,
   "id": "0c1051b0-f787-4396-ade0-991f80048c7e",
   "metadata": {},
   "outputs": [
    {
     "name": "stdout",
     "output_type": "stream",
     "text": [
      "1.0 -2.0\n"
     ]
    }
   ],
   "source": [
    "y = 1.0 - 2.0j\n",
    "print(y.real, y.imag)"
   ]
  },
  {
   "cell_type": "code",
   "execution_count": 22,
   "id": "ab335c27-319b-4ad6-81a7-69db267aa871",
   "metadata": {},
   "outputs": [
    {
     "name": "stdout",
     "output_type": "stream",
     "text": [
      "Hello\n",
      "Hello\n",
      "Hello\n"
     ]
    }
   ],
   "source": [
    "myString1 = 'Hello'\n",
    "print(myString1)\n",
    "myString2 = \"Hello\"\n",
    "print(myString2)\n",
    "myString3 = '''Hello'''\n",
    "print(myString3)"
   ]
  },
  {
   "cell_type": "code",
   "execution_count": 23,
   "id": "d35eb120-3c2b-4c7a-a62d-30075170a793",
   "metadata": {},
   "outputs": [
    {
     "data": {
      "text/plain": [
       "str"
      ]
     },
     "execution_count": 23,
     "metadata": {},
     "output_type": "execute_result"
    }
   ],
   "source": [
    "a='lucky'\n",
    "type(a)"
   ]
  },
  {
   "cell_type": "code",
   "execution_count": 24,
   "id": "c97feade-1fad-47b6-b0c9-d6fd53b14f37",
   "metadata": {},
   "outputs": [
    {
     "ename": "ValueError",
     "evalue": "invalid literal for int() with base 10: 'lucky'",
     "output_type": "error",
     "traceback": [
      "\u001b[1;31m---------------------------------------------------------------------------\u001b[0m",
      "\u001b[1;31mValueError\u001b[0m                                Traceback (most recent call last)",
      "Cell \u001b[1;32mIn[24], line 1\u001b[0m\n\u001b[1;32m----> 1\u001b[0m \u001b[38;5;28mint\u001b[39m(a)\n",
      "\u001b[1;31mValueError\u001b[0m: invalid literal for int() with base 10: 'lucky'"
     ]
    }
   ],
   "source": [
    "int(a)"
   ]
  },
  {
   "cell_type": "code",
   "execution_count": 25,
   "id": "7f8fb113-2945-4ffe-ab59-b4dfc1e0ad85",
   "metadata": {},
   "outputs": [
    {
     "data": {
      "text/plain": [
       "str"
      ]
     },
     "execution_count": 25,
     "metadata": {},
     "output_type": "execute_result"
    }
   ],
   "source": [
    "type(\"lucky\")"
   ]
  },
  {
   "cell_type": "code",
   "execution_count": 26,
   "id": "c70f81a5-9078-44ed-887a-c3f48f2112ea",
   "metadata": {},
   "outputs": [
    {
     "data": {
      "text/plain": [
       "str"
      ]
     },
     "execution_count": 26,
     "metadata": {},
     "output_type": "execute_result"
    }
   ],
   "source": [
    "var = \"1234567\"\n",
    "type(var)"
   ]
  },
  {
   "cell_type": "code",
   "execution_count": 27,
   "id": "37e00cb7-847e-4c3d-b1ea-a6a62b2a82ac",
   "metadata": {},
   "outputs": [
    {
     "data": {
      "text/plain": [
       "'1234567'"
      ]
     },
     "execution_count": 27,
     "metadata": {},
     "output_type": "execute_result"
    }
   ],
   "source": [
    "var"
   ]
  },
  {
   "cell_type": "code",
   "execution_count": 28,
   "id": "8609ad12-7d02-4b02-8cac-e44be60f4efb",
   "metadata": {},
   "outputs": [
    {
     "data": {
      "text/plain": [
       "1234567"
      ]
     },
     "execution_count": 28,
     "metadata": {},
     "output_type": "execute_result"
    }
   ],
   "source": [
    "z = int(var)\n",
    "z"
   ]
  },
  {
   "cell_type": "code",
   "execution_count": 29,
   "id": "8d914b89-add3-4d92-8ded-587a04e6b42c",
   "metadata": {},
   "outputs": [
    {
     "data": {
      "text/plain": [
       "'si@1234'"
      ]
     },
     "execution_count": 29,
     "metadata": {},
     "output_type": "execute_result"
    }
   ],
   "source": [
    "a = 'si@1234'\n",
    "a"
   ]
  },
  {
   "cell_type": "code",
   "execution_count": 30,
   "id": "962a6405-1c24-4150-a53b-003ec0ff07e1",
   "metadata": {},
   "outputs": [
    {
     "ename": "ValueError",
     "evalue": "invalid literal for int() with base 10: 'si@1234'",
     "output_type": "error",
     "traceback": [
      "\u001b[1;31m---------------------------------------------------------------------------\u001b[0m",
      "\u001b[1;31mValueError\u001b[0m                                Traceback (most recent call last)",
      "Cell \u001b[1;32mIn[30], line 1\u001b[0m\n\u001b[1;32m----> 1\u001b[0m \u001b[38;5;28mint\u001b[39m(a)\n",
      "\u001b[1;31mValueError\u001b[0m: invalid literal for int() with base 10: 'si@1234'"
     ]
    }
   ],
   "source": [
    "int(a)"
   ]
  },
  {
   "cell_type": "code",
   "execution_count": 31,
   "id": "b48279ba-a15f-4710-b8d4-442f87d4949d",
   "metadata": {},
   "outputs": [],
   "source": [
    "a = '1234'"
   ]
  },
  {
   "cell_type": "code",
   "execution_count": 32,
   "id": "4364f600-627e-4038-9090-12279dfae594",
   "metadata": {},
   "outputs": [
    {
     "data": {
      "text/plain": [
       "1234"
      ]
     },
     "execution_count": 32,
     "metadata": {},
     "output_type": "execute_result"
    }
   ],
   "source": [
    "int(a)"
   ]
  },
  {
   "cell_type": "code",
   "execution_count": 33,
   "id": "32470782-784a-4699-aa1d-fd89492a0fd2",
   "metadata": {},
   "outputs": [
    {
     "name": "stdout",
     "output_type": "stream",
     "text": [
      "navin \"laptop\"\n"
     ]
    }
   ],
   "source": [
    "print('navin \"laptop\"')"
   ]
  },
  {
   "cell_type": "code",
   "execution_count": 34,
   "id": "377c960e-1959-4437-bdae-4d41ba731102",
   "metadata": {},
   "outputs": [
    {
     "ename": "SyntaxError",
     "evalue": "unterminated string literal (detected at line 1) (503525417.py, line 1)",
     "output_type": "error",
     "traceback": [
      "\u001b[1;36m  Cell \u001b[1;32mIn[34], line 1\u001b[1;36m\u001b[0m\n\u001b[1;33m    print('navin's \"laptop\"')\u001b[0m\n\u001b[1;37m                           ^\u001b[0m\n\u001b[1;31mSyntaxError\u001b[0m\u001b[1;31m:\u001b[0m unterminated string literal (detected at line 1)\n"
     ]
    }
   ],
   "source": [
    "print('navin's \"laptop\"')"
   ]
  },
  {
   "cell_type": "code",
   "execution_count": 35,
   "id": "cb3442e4-c6ff-49ab-86b3-33f6548597e5",
   "metadata": {},
   "outputs": [
    {
     "name": "stdout",
     "output_type": "stream",
     "text": [
      "navin's \"laptop\"\n"
     ]
    }
   ],
   "source": [
    "print('navin\\'s \"laptop\"')"
   ]
  },
  {
   "cell_type": "code",
   "execution_count": 1,
   "id": "10e04b8c-9a94-4c6c-a923-107b0d5ed5f5",
   "metadata": {},
   "outputs": [
    {
     "data": {
      "text/plain": [
       "'502'"
      ]
     },
     "execution_count": 1,
     "metadata": {},
     "output_type": "execute_result"
    }
   ],
   "source": [
    "a = \"50\"\n",
    "b = \"2\"\n",
    "a+b"
   ]
  },
  {
   "cell_type": "code",
   "execution_count": 2,
   "id": "c6948eee-0af8-42bf-93b9-b99b006bbefc",
   "metadata": {},
   "outputs": [
    {
     "data": {
      "text/plain": [
       "502"
      ]
     },
     "execution_count": 2,
     "metadata": {},
     "output_type": "execute_result"
    }
   ],
   "source": [
    "int(a+b)"
   ]
  },
  {
   "cell_type": "code",
   "execution_count": 3,
   "id": "86bdd31a-935f-4ea8-a3d1-ebd04f376cc8",
   "metadata": {},
   "outputs": [
    {
     "data": {
      "text/plain": [
       "52"
      ]
     },
     "execution_count": 3,
     "metadata": {},
     "output_type": "execute_result"
    }
   ],
   "source": [
    "int(a) + int(b)"
   ]
  },
  {
   "cell_type": "code",
   "execution_count": 4,
   "id": "20fb0f37-093f-4e1c-9820-3a4cd16c522c",
   "metadata": {},
   "outputs": [
    {
     "ename": "TypeError",
     "evalue": "unsupported operand type(s) for +: 'int' and 'str'",
     "output_type": "error",
     "traceback": [
      "\u001b[1;31m---------------------------------------------------------------------------\u001b[0m",
      "\u001b[1;31mTypeError\u001b[0m                                 Traceback (most recent call last)",
      "Cell \u001b[1;32mIn[4], line 3\u001b[0m\n\u001b[0;32m      1\u001b[0m d \u001b[38;5;241m=\u001b[39m \u001b[38;5;124m'\u001b[39m\u001b[38;5;124m3\u001b[39m\u001b[38;5;124m'\u001b[39m\n\u001b[0;32m      2\u001b[0m a \u001b[38;5;241m=\u001b[39m \u001b[38;5;241m6\u001b[39m\n\u001b[1;32m----> 3\u001b[0m a\u001b[38;5;241m+\u001b[39md\n",
      "\u001b[1;31mTypeError\u001b[0m: unsupported operand type(s) for +: 'int' and 'str'"
     ]
    }
   ],
   "source": [
    "d = '3'\n",
    "a = 6\n",
    "a+d"
   ]
  },
  {
   "cell_type": "code",
   "execution_count": 5,
   "id": "56e3bcdf-5d3d-4d7c-9c3e-b7150efbe7d0",
   "metadata": {},
   "outputs": [
    {
     "data": {
      "text/plain": [
       "9"
      ]
     },
     "execution_count": 5,
     "metadata": {},
     "output_type": "execute_result"
    }
   ],
   "source": [
    "int(d) + a"
   ]
  },
  {
   "cell_type": "code",
   "execution_count": 6,
   "id": "9c87711b-556d-4d62-a487-5334ab6d8e93",
   "metadata": {},
   "outputs": [
    {
     "data": {
      "text/plain": [
       "36"
      ]
     },
     "execution_count": 6,
     "metadata": {},
     "output_type": "execute_result"
    }
   ],
   "source": [
    "int(d+str(a))"
   ]
  },
  {
   "cell_type": "code",
   "execution_count": 7,
   "id": "798f9a71-4b29-43d6-8cb4-c90f3147bef6",
   "metadata": {},
   "outputs": [],
   "source": [
    "a = \"lucky\"\n",
    "b = 123"
   ]
  },
  {
   "cell_type": "code",
   "execution_count": 8,
   "id": "16065594-2430-487a-b0bd-62ae5b6ee75e",
   "metadata": {},
   "outputs": [
    {
     "name": "stdout",
     "output_type": "stream",
     "text": [
      "lucky123\n"
     ]
    }
   ],
   "source": [
    "print(a+str(b))"
   ]
  },
  {
   "cell_type": "code",
   "execution_count": 9,
   "id": "8bafc992-68a2-4fdb-aea0-f0c5687472da",
   "metadata": {},
   "outputs": [
    {
     "data": {
      "text/plain": [
       "'navinnavin'"
      ]
     },
     "execution_count": 9,
     "metadata": {},
     "output_type": "execute_result"
    }
   ],
   "source": [
    "'navin' + 'navin'"
   ]
  },
  {
   "cell_type": "code",
   "execution_count": 10,
   "id": "d6d6b4a1-71db-4697-8a32-afdae7f58f30",
   "metadata": {},
   "outputs": [
    {
     "data": {
      "text/plain": [
       "'neerajneerajneerajneerajneeraj'"
      ]
     },
     "execution_count": 10,
     "metadata": {},
     "output_type": "execute_result"
    }
   ],
   "source": [
    "\"neeraj\" *5"
   ]
  },
  {
   "cell_type": "code",
   "execution_count": 11,
   "id": "077fbbde-5f49-4c60-b8d5-34f769a0f625",
   "metadata": {},
   "outputs": [],
   "source": [
    "user = \"satish\"\n",
    "lines=100"
   ]
  },
  {
   "cell_type": "code",
   "execution_count": 12,
   "id": "069b92f5-fbf0-4907-80e6-4276bc2fb9c3",
   "metadata": {},
   "outputs": [
    {
     "name": "stdout",
     "output_type": "stream",
     "text": [
      "Congratulations, satish ! You just wrote 100  lines of code\n"
     ]
    }
   ],
   "source": [
    "print(\"Congratulations,\",user,\"! You just wrote\",lines,\" lines of code\")"
   ]
  },
  {
   "cell_type": "code",
   "execution_count": 13,
   "id": "3af180c1-5201-4897-b2d0-0a9879766fe4",
   "metadata": {},
   "outputs": [
    {
     "name": "stdout",
     "output_type": "stream",
     "text": [
      "Congratulations, satish! You just wrote 100 lines of code\n"
     ]
    }
   ],
   "source": [
    "print(\"Congratulations, \" + user + \"! You just wrote \" +str(lines) + \" lines of code\")"
   ]
  },
  {
   "cell_type": "code",
   "execution_count": 14,
   "id": "87cae27a-94f8-400e-804c-eb588a2923da",
   "metadata": {},
   "outputs": [
    {
     "data": {
      "text/plain": [
       "19"
      ]
     },
     "execution_count": 14,
     "metadata": {},
     "output_type": "execute_result"
    }
   ],
   "source": [
    "d = 'This is interesting'\n",
    "len(d)"
   ]
  },
  {
   "cell_type": "code",
   "execution_count": 15,
   "id": "30bc3852-fe69-4f85-9acc-f681c2f0abdb",
   "metadata": {},
   "outputs": [
    {
     "ename": "NameError",
     "evalue": "name 'd' is not defined",
     "output_type": "error",
     "traceback": [
      "\u001b[1;31m---------------------------------------------------------------------------\u001b[0m",
      "\u001b[1;31mNameError\u001b[0m                                 Traceback (most recent call last)",
      "Cell \u001b[1;32mIn[15], line 2\u001b[0m\n\u001b[0;32m      1\u001b[0m \u001b[38;5;28;01mdel\u001b[39;00m d\n\u001b[1;32m----> 2\u001b[0m \u001b[38;5;28mprint\u001b[39m(d)\n",
      "\u001b[1;31mNameError\u001b[0m: name 'd' is not defined"
     ]
    }
   ],
   "source": [
    "del d\n",
    "print(d)"
   ]
  },
  {
   "cell_type": "code",
   "execution_count": 16,
   "id": "eb576045-64be-453e-aabf-04c3188f2a1c",
   "metadata": {},
   "outputs": [],
   "source": [
    "myString = \"Hello\""
   ]
  },
  {
   "cell_type": "code",
   "execution_count": 17,
   "id": "42d438ec-c32e-45bc-9e0e-65fccf9aeddc",
   "metadata": {},
   "outputs": [
    {
     "name": "stdout",
     "output_type": "stream",
     "text": [
      "H\n"
     ]
    }
   ],
   "source": [
    "print(myString[0])"
   ]
  },
  {
   "cell_type": "code",
   "execution_count": 18,
   "id": "b5b745b2-3d3e-4399-8eac-2260efd42898",
   "metadata": {},
   "outputs": [
    {
     "name": "stdout",
     "output_type": "stream",
     "text": [
      "o\n"
     ]
    }
   ],
   "source": [
    "print(myString[-1])"
   ]
  },
  {
   "cell_type": "code",
   "execution_count": 19,
   "id": "2a222ef6-f825-4d85-859b-8888e183ab4e",
   "metadata": {},
   "outputs": [
    {
     "name": "stdout",
     "output_type": "stream",
     "text": [
      "l\n"
     ]
    }
   ],
   "source": [
    "print(myString[-3])"
   ]
  },
  {
   "cell_type": "code",
   "execution_count": 20,
   "id": "dfd18f18-75a9-42dc-9e14-5311da1db8c5",
   "metadata": {},
   "outputs": [
    {
     "ename": "IndexError",
     "evalue": "string index out of range",
     "output_type": "error",
     "traceback": [
      "\u001b[1;31m---------------------------------------------------------------------------\u001b[0m",
      "\u001b[1;31mIndexError\u001b[0m                                Traceback (most recent call last)",
      "Cell \u001b[1;32mIn[20], line 1\u001b[0m\n\u001b[1;32m----> 1\u001b[0m \u001b[38;5;28mprint\u001b[39m(myString[\u001b[38;5;241m5\u001b[39m])\n",
      "\u001b[1;31mIndexError\u001b[0m: string index out of range"
     ]
    }
   ],
   "source": [
    "print(myString[5])"
   ]
  },
  {
   "cell_type": "code",
   "execution_count": 21,
   "id": "4e1b5813-c253-4f44-95fb-181dffcefe4e",
   "metadata": {},
   "outputs": [
    {
     "ename": "TypeError",
     "evalue": "string indices must be integers, not 'float'",
     "output_type": "error",
     "traceback": [
      "\u001b[1;31m---------------------------------------------------------------------------\u001b[0m",
      "\u001b[1;31mTypeError\u001b[0m                                 Traceback (most recent call last)",
      "Cell \u001b[1;32mIn[21], line 1\u001b[0m\n\u001b[1;32m----> 1\u001b[0m \u001b[38;5;28mprint\u001b[39m(myString[\u001b[38;5;241m1.5\u001b[39m])\n",
      "\u001b[1;31mTypeError\u001b[0m: string indices must be integers, not 'float'"
     ]
    }
   ],
   "source": [
    "print(myString[1.5])"
   ]
  },
  {
   "cell_type": "code",
   "execution_count": 22,
   "id": "a48ead61-8263-4690-bcf2-bb330a372c35",
   "metadata": {},
   "outputs": [
    {
     "ename": "TypeError",
     "evalue": "'str' object does not support item assignment",
     "output_type": "error",
     "traceback": [
      "\u001b[1;31m---------------------------------------------------------------------------\u001b[0m",
      "\u001b[1;31mTypeError\u001b[0m                                 Traceback (most recent call last)",
      "Cell \u001b[1;32mIn[22], line 2\u001b[0m\n\u001b[0;32m      1\u001b[0m myString \u001b[38;5;241m=\u001b[39m \u001b[38;5;124m\"\u001b[39m\u001b[38;5;124mHello\u001b[39m\u001b[38;5;124m\"\u001b[39m\n\u001b[1;32m----> 2\u001b[0m myString[\u001b[38;5;241m4\u001b[39m] \u001b[38;5;241m=\u001b[39m \u001b[38;5;124m'\u001b[39m\u001b[38;5;124ms\u001b[39m\u001b[38;5;124m'\u001b[39m\n",
      "\u001b[1;31mTypeError\u001b[0m: 'str' object does not support item assignment"
     ]
    }
   ],
   "source": [
    "myString = \"Hello\"\n",
    "myString[4] = 's'"
   ]
  },
  {
   "cell_type": "code",
   "execution_count": 24,
   "id": "b24fe4c0-9f11-4450-8564-00af5355fea9",
   "metadata": {},
   "outputs": [
    {
     "name": "stdout",
     "output_type": "stream",
     "text": [
      "llo\n"
     ]
    }
   ],
   "source": [
    "print(myString[2:5])"
   ]
  },
  {
   "cell_type": "code",
   "execution_count": 25,
   "id": "0b5672f9-c77b-462e-8cea-0f0b7706f467",
   "metadata": {},
   "outputs": [
    {
     "name": "stdout",
     "output_type": "stream",
     "text": [
      "Hel\n"
     ]
    }
   ],
   "source": [
    "print(myString[0:3])"
   ]
  },
  {
   "cell_type": "code",
   "execution_count": 26,
   "id": "2cbb06d2-ed3c-45ed-9bee-6faf590c39d2",
   "metadata": {},
   "outputs": [
    {
     "data": {
      "text/plain": [
       "'llo'"
      ]
     },
     "execution_count": 26,
     "metadata": {},
     "output_type": "execute_result"
    }
   ],
   "source": [
    "myString[2: ]"
   ]
  },
  {
   "cell_type": "code",
   "execution_count": 27,
   "id": "610d76ee-c708-4747-af51-27aa1e4dcab6",
   "metadata": {},
   "outputs": [
    {
     "data": {
      "text/plain": [
       "'Hell'"
      ]
     },
     "execution_count": 27,
     "metadata": {},
     "output_type": "execute_result"
    }
   ],
   "source": [
    "myString[:4]"
   ]
  },
  {
   "cell_type": "code",
   "execution_count": 28,
   "id": "d2cbd2b6-f9ad-4819-843c-eb006419ff0b",
   "metadata": {},
   "outputs": [
    {
     "data": {
      "text/plain": [
       "'Hello'"
      ]
     },
     "execution_count": 28,
     "metadata": {},
     "output_type": "execute_result"
    }
   ],
   "source": [
    "myString[:]"
   ]
  },
  {
   "cell_type": "code",
   "execution_count": 29,
   "id": "782b539d-1e25-4a04-ab61-d88df25a31fb",
   "metadata": {},
   "outputs": [
    {
     "data": {
      "text/plain": [
       "'Hello'"
      ]
     },
     "execution_count": 29,
     "metadata": {},
     "output_type": "execute_result"
    }
   ],
   "source": [
    "myString"
   ]
  },
  {
   "cell_type": "code",
   "execution_count": 30,
   "id": "82a465fc-48c8-4577-88a4-d43959b19418",
   "metadata": {},
   "outputs": [
    {
     "data": {
      "text/plain": [
       "''"
      ]
     },
     "execution_count": 30,
     "metadata": {},
     "output_type": "execute_result"
    }
   ],
   "source": [
    "myString[4:1]"
   ]
  },
  {
   "cell_type": "code",
   "execution_count": 31,
   "id": "ed140151-187c-4031-a9a1-fbf88d6e7fd8",
   "metadata": {},
   "outputs": [
    {
     "data": {
      "text/plain": [
       "'Hlo'"
      ]
     },
     "execution_count": 31,
     "metadata": {},
     "output_type": "execute_result"
    }
   ],
   "source": [
    "myString[ : : 2]"
   ]
  },
  {
   "cell_type": "code",
   "execution_count": 32,
   "id": "3c2ae2af-dbe7-48d0-a43b-39d44340586b",
   "metadata": {},
   "outputs": [
    {
     "data": {
      "text/plain": [
       "'oll'"
      ]
     },
     "execution_count": 32,
     "metadata": {},
     "output_type": "execute_result"
    }
   ],
   "source": [
    "myString[-1:-4:-1]"
   ]
  },
  {
   "cell_type": "code",
   "execution_count": 33,
   "id": "821123f4-0fc5-4ca7-8367-b544d5ea4566",
   "metadata": {},
   "outputs": [
    {
     "data": {
      "text/plain": [
       "'olleH'"
      ]
     },
     "execution_count": 33,
     "metadata": {},
     "output_type": "execute_result"
    }
   ],
   "source": [
    "myString[::-1]"
   ]
  },
  {
   "cell_type": "code",
   "execution_count": 34,
   "id": "7197c6d7-75c3-47fa-bf18-a366a2397844",
   "metadata": {},
   "outputs": [
    {
     "data": {
      "text/plain": [
       "'Good morning'"
      ]
     },
     "execution_count": 34,
     "metadata": {},
     "output_type": "execute_result"
    }
   ],
   "source": [
    "\"good morning\".capitalize()"
   ]
  },
  {
   "cell_type": "code",
   "execution_count": 35,
   "id": "0dc912d2-acfd-432e-9cad-32b4aadbfd62",
   "metadata": {},
   "outputs": [
    {
     "data": {
      "text/plain": [
       "'Good morning. welcome'"
      ]
     },
     "execution_count": 35,
     "metadata": {},
     "output_type": "execute_result"
    }
   ],
   "source": [
    "\"good morning. welcome\".capitalize()"
   ]
  },
  {
   "cell_type": "code",
   "execution_count": 36,
   "id": "44ce24e7-a4a6-455a-89f4-4e146eed2d76",
   "metadata": {},
   "outputs": [
    {
     "data": {
      "text/plain": [
       "'Good Morning'"
      ]
     },
     "execution_count": 36,
     "metadata": {},
     "output_type": "execute_result"
    }
   ],
   "source": [
    "a = \"good moRning\"\n",
    "a.title()"
   ]
  },
  {
   "cell_type": "code",
   "execution_count": 38,
   "id": "7bf0902c-0fbf-4962-8305-8098abf8514e",
   "metadata": {},
   "outputs": [
    {
     "data": {
      "text/plain": [
       "'Good Morning'"
      ]
     },
     "execution_count": 38,
     "metadata": {},
     "output_type": "execute_result"
    }
   ],
   "source": [
    "\"gOOd moRning\".title()"
   ]
  },
  {
   "cell_type": "code",
   "execution_count": 39,
   "id": "1bcdea30-3e6d-4938-aec5-cbe06c0c7a3e",
   "metadata": {},
   "outputs": [
    {
     "data": {
      "text/plain": [
       "'GOOD MORNING'"
      ]
     },
     "execution_count": 39,
     "metadata": {},
     "output_type": "execute_result"
    }
   ],
   "source": [
    "a.upper()"
   ]
  },
  {
   "cell_type": "code",
   "execution_count": 40,
   "id": "98e00fe6-b63e-4ef0-b0ae-93d5f25fef6f",
   "metadata": {},
   "outputs": [
    {
     "data": {
      "text/plain": [
       "'good morning'"
      ]
     },
     "execution_count": 40,
     "metadata": {},
     "output_type": "execute_result"
    }
   ],
   "source": [
    "a.lower()"
   ]
  },
  {
   "cell_type": "code",
   "execution_count": 41,
   "id": "7de24b2b-ac43-40cb-a369-2c7c53bf9a68",
   "metadata": {},
   "outputs": [
    {
     "data": {
      "text/plain": [
       "['hello', 'my', 'name', 'is', 'lucky']"
      ]
     },
     "execution_count": 41,
     "metadata": {},
     "output_type": "execute_result"
    }
   ],
   "source": [
    "st = 'hello my name is lucky'\n",
    "st.split()"
   ]
  },
  {
   "cell_type": "code",
   "execution_count": 42,
   "id": "eac3acc1-ef81-4682-aeb9-402f5e4ccdb2",
   "metadata": {},
   "outputs": [
    {
     "data": {
      "text/plain": [
       "['Go Sports! ', ' Sports']"
      ]
     },
     "execution_count": 42,
     "metadata": {},
     "output_type": "execute_result"
    }
   ],
   "source": [
    "tweet = 'Go Sports! # Sports'\n",
    "tweet.split('#')"
   ]
  },
  {
   "cell_type": "code",
   "execution_count": 43,
   "id": "64245af3-2965-4846-87a2-a08248a4d262",
   "metadata": {},
   "outputs": [
    {
     "data": {
      "text/plain": [
       "['This', 'will', 'split', 'all', 'words', 'in', 'a', 'list']"
      ]
     },
     "execution_count": 43,
     "metadata": {},
     "output_type": "execute_result"
    }
   ],
   "source": [
    "\"This will split all words in a list\".split()"
   ]
  },
  {
   "cell_type": "code",
   "execution_count": 45,
   "id": "4cec5fed-ce52-4822-91f8-f3bde5c797ad",
   "metadata": {},
   "outputs": [
    {
     "data": {
      "text/plain": [
       "'This will split all words in a list'"
      ]
     },
     "execution_count": 45,
     "metadata": {},
     "output_type": "execute_result"
    }
   ],
   "source": [
    "' '.join(['This','will','split','all','words','in','a','list'])"
   ]
  },
  {
   "cell_type": "code",
   "execution_count": 46,
   "id": "001ce4ee-2d13-474a-af98-435b8718a7a8",
   "metadata": {},
   "outputs": [
    {
     "data": {
      "text/plain": [
       "5"
      ]
     },
     "execution_count": 46,
     "metadata": {},
     "output_type": "execute_result"
    }
   ],
   "source": [
    "\"Good Morning\".find(\"M\")"
   ]
  },
  {
   "cell_type": "code",
   "execution_count": 47,
   "id": "7190d2a5-0904-426c-93eb-cd423fa80985",
   "metadata": {},
   "outputs": [
    {
     "data": {
      "text/plain": [
       "3"
      ]
     },
     "execution_count": 47,
     "metadata": {},
     "output_type": "execute_result"
    }
   ],
   "source": [
    "\"Good Morning\".count(\"o\")"
   ]
  },
  {
   "cell_type": "code",
   "execution_count": 48,
   "id": "87489fce-b853-4bb9-b916-7f454eb0a02b",
   "metadata": {},
   "outputs": [],
   "source": [
    "s1 = \"Good morning\"\n",
    "s2 = s1.replace(\"Good\",\"Bad\")"
   ]
  },
  {
   "cell_type": "code",
   "execution_count": 50,
   "id": "70b163a5-68a7-496f-a04e-b6b8e34e15e9",
   "metadata": {},
   "outputs": [
    {
     "name": "stdout",
     "output_type": "stream",
     "text": [
      "True\n",
      "False\n",
      "False\n",
      "True\n",
      "False\n",
      "False\n",
      "False\n",
      "False\n",
      "True\n"
     ]
    }
   ],
   "source": [
    "my_str = 'Lucky123'\n",
    "\n",
    "print(my_str.isalnum())\n",
    "print(my_str.isalpha())\n",
    "print(my_str.isdigit())\n",
    "print(my_str.istitle())\n",
    "print(my_str.isupper())\n",
    "print(my_str.islower())\n",
    "print(my_str.isspace())\n",
    "print(my_str.endswith('l'))\n",
    "print(my_str.startswith('L'))"
   ]
  },
  {
   "cell_type": "code",
   "execution_count": null,
   "id": "3ff16fb7-fc6e-4037-86fd-b18da2cdf88b",
   "metadata": {},
   "outputs": [],
   "source": []
  }
 ],
 "metadata": {
  "kernelspec": {
   "display_name": "Python 3 (ipykernel)",
   "language": "python",
   "name": "python3"
  },
  "language_info": {
   "codemirror_mode": {
    "name": "ipython",
    "version": 3
   },
   "file_extension": ".py",
   "mimetype": "text/x-python",
   "name": "python",
   "nbconvert_exporter": "python",
   "pygments_lexer": "ipython3",
   "version": "3.11.7"
  }
 },
 "nbformat": 4,
 "nbformat_minor": 5
}
