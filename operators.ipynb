{
 "cells": [
  {
   "cell_type": "code",
   "execution_count": 1,
   "id": "6908bb93-7309-4952-bbbd-105bb16c2885",
   "metadata": {},
   "outputs": [
    {
     "data": {
      "text/plain": [
       "8"
      ]
     },
     "execution_count": 1,
     "metadata": {},
     "output_type": "execute_result"
    }
   ],
   "source": [
    "3+5"
   ]
  },
  {
   "cell_type": "code",
   "execution_count": 2,
   "id": "a2374c65-5e37-4071-8215-6006d90acecb",
   "metadata": {},
   "outputs": [
    {
     "data": {
      "text/plain": [
       "7"
      ]
     },
     "execution_count": 2,
     "metadata": {},
     "output_type": "execute_result"
    }
   ],
   "source": [
    "54-47"
   ]
  },
  {
   "cell_type": "code",
   "execution_count": 3,
   "id": "bafbb31c-a0fc-4157-9fcd-6e0e4f144f5a",
   "metadata": {},
   "outputs": [
    {
     "data": {
      "text/plain": [
       "12"
      ]
     },
     "execution_count": 3,
     "metadata": {},
     "output_type": "execute_result"
    }
   ],
   "source": [
    "3*4"
   ]
  },
  {
   "cell_type": "code",
   "execution_count": 4,
   "id": "5f66351f-c502-4c74-bb71-c71969513855",
   "metadata": {},
   "outputs": [
    {
     "data": {
      "text/plain": [
       "5.0"
      ]
     },
     "execution_count": 4,
     "metadata": {},
     "output_type": "execute_result"
    }
   ],
   "source": [
    "25/5"
   ]
  },
  {
   "cell_type": "code",
   "execution_count": 5,
   "id": "9f9746a0-6419-4bf7-b772-fdd88ccf48c5",
   "metadata": {},
   "outputs": [
    {
     "data": {
      "text/plain": [
       "100"
      ]
     },
     "execution_count": 5,
     "metadata": {},
     "output_type": "execute_result"
    }
   ],
   "source": [
    "10**2"
   ]
  },
  {
   "cell_type": "code",
   "execution_count": 6,
   "id": "82001c02-ddc4-4df4-97c5-f8a9777e4b58",
   "metadata": {},
   "outputs": [
    {
     "data": {
      "text/plain": [
       "3.3333333333333335"
      ]
     },
     "execution_count": 6,
     "metadata": {},
     "output_type": "execute_result"
    }
   ],
   "source": [
    "10/3"
   ]
  },
  {
   "cell_type": "code",
   "execution_count": 7,
   "id": "52c8047f-269d-497d-8191-2081480cbf1c",
   "metadata": {},
   "outputs": [
    {
     "data": {
      "text/plain": [
       "1"
      ]
     },
     "execution_count": 7,
     "metadata": {},
     "output_type": "execute_result"
    }
   ],
   "source": [
    "10%3"
   ]
  },
  {
   "cell_type": "code",
   "execution_count": 8,
   "id": "70fbc7ca-3210-4196-864e-658f330d782a",
   "metadata": {},
   "outputs": [
    {
     "data": {
      "text/plain": [
       "3"
      ]
     },
     "execution_count": 8,
     "metadata": {},
     "output_type": "execute_result"
    }
   ],
   "source": [
    "10//3"
   ]
  },
  {
   "cell_type": "code",
   "execution_count": 9,
   "id": "5e529010-9083-472e-a73a-bf168765a0ce",
   "metadata": {},
   "outputs": [
    {
     "data": {
      "text/plain": [
       "50"
      ]
     },
     "execution_count": 9,
     "metadata": {},
     "output_type": "execute_result"
    }
   ],
   "source": [
    "( 2+3 ) * (5+5)"
   ]
  },
  {
   "cell_type": "code",
   "execution_count": 10,
   "id": "61d5b381-9e48-4fa4-a5d1-b9aafd206609",
   "metadata": {},
   "outputs": [
    {
     "name": "stdout",
     "output_type": "stream",
     "text": [
      "200\n",
      "0.5\n",
      "10\n"
     ]
    }
   ],
   "source": [
    "a=10\n",
    "b=20\n",
    "print(a*b)\n",
    "print(a/b)\n",
    "print(a %b)"
   ]
  },
  {
   "cell_type": "code",
   "execution_count": 11,
   "id": "4d688ad9-9b1e-4950-9603-13a0ea748f5f",
   "metadata": {},
   "outputs": [
    {
     "data": {
      "text/plain": [
       "10.0"
      ]
     },
     "execution_count": 11,
     "metadata": {},
     "output_type": "execute_result"
    }
   ],
   "source": [
    "a - b * a/ b + a"
   ]
  },
  {
   "cell_type": "code",
   "execution_count": 12,
   "id": "0b72a948-3c7f-495a-bca0-8f8e361b739f",
   "metadata": {},
   "outputs": [
    {
     "data": {
      "text/plain": [
       "16"
      ]
     },
     "execution_count": 12,
     "metadata": {},
     "output_type": "execute_result"
    }
   ],
   "source": [
    "(2*(2 +6))"
   ]
  },
  {
   "cell_type": "code",
   "execution_count": 13,
   "id": "e23e69ce-5639-4f19-a853-16e33377f102",
   "metadata": {},
   "outputs": [
    {
     "data": {
      "text/plain": [
       "7"
      ]
     },
     "execution_count": 13,
     "metadata": {},
     "output_type": "execute_result"
    }
   ],
   "source": [
    "8 // 6 % 5 + 2 **3 - 2"
   ]
  },
  {
   "cell_type": "code",
   "execution_count": 14,
   "id": "16568524-14cf-4df5-af99-763c4b506c8a",
   "metadata": {},
   "outputs": [
    {
     "data": {
      "text/plain": [
       "5.0"
      ]
     },
     "execution_count": 14,
     "metadata": {},
     "output_type": "execute_result"
    }
   ],
   "source": [
    "8 // 3 *3 /2 + 10 % 2 ** 2"
   ]
  },
  {
   "cell_type": "code",
   "execution_count": 15,
   "id": "4a465dd5-ef8c-42c3-9906-c53e98037ef7",
   "metadata": {},
   "outputs": [
    {
     "data": {
      "text/plain": [
       "True"
      ]
     },
     "execution_count": 15,
     "metadata": {},
     "output_type": "execute_result"
    }
   ],
   "source": [
    "45>34"
   ]
  },
  {
   "cell_type": "code",
   "execution_count": 16,
   "id": "71bfdc9e-564d-4a09-8f74-82e60d036b1a",
   "metadata": {},
   "outputs": [
    {
     "data": {
      "text/plain": [
       "False"
      ]
     },
     "execution_count": 16,
     "metadata": {},
     "output_type": "execute_result"
    }
   ],
   "source": [
    "56<23"
   ]
  },
  {
   "cell_type": "code",
   "execution_count": 17,
   "id": "286115b4-1ef3-4869-8baf-865431155204",
   "metadata": {},
   "outputs": [
    {
     "data": {
      "text/plain": [
       "False"
      ]
     },
     "execution_count": 17,
     "metadata": {},
     "output_type": "execute_result"
    }
   ],
   "source": [
    "3*3 < 4*2"
   ]
  },
  {
   "cell_type": "code",
   "execution_count": 18,
   "id": "105c9440-8366-4742-af8c-5ee67cf16151",
   "metadata": {},
   "outputs": [
    {
     "data": {
      "text/plain": [
       "True"
      ]
     },
     "execution_count": 18,
     "metadata": {},
     "output_type": "execute_result"
    }
   ],
   "source": [
    "45 == 45"
   ]
  },
  {
   "cell_type": "code",
   "execution_count": 19,
   "id": "00567e43-ffd0-4479-915f-0137b8f82f46",
   "metadata": {},
   "outputs": [
    {
     "data": {
      "text/plain": [
       "True"
      ]
     },
     "execution_count": 19,
     "metadata": {},
     "output_type": "execute_result"
    }
   ],
   "source": [
    "3!=5"
   ]
  },
  {
   "cell_type": "code",
   "execution_count": 20,
   "id": "2bec8a19-3fec-4725-89e2-68bd2a9ddb6f",
   "metadata": {},
   "outputs": [
    {
     "data": {
      "text/plain": [
       "True"
      ]
     },
     "execution_count": 20,
     "metadata": {},
     "output_type": "execute_result"
    }
   ],
   "source": [
    "1 >= 1"
   ]
  },
  {
   "cell_type": "code",
   "execution_count": 21,
   "id": "3c588f8b-8181-416b-be54-318981a53780",
   "metadata": {},
   "outputs": [
    {
     "data": {
      "text/plain": [
       "False"
      ]
     },
     "execution_count": 21,
     "metadata": {},
     "output_type": "execute_result"
    }
   ],
   "source": [
    "5 <=4"
   ]
  },
  {
   "cell_type": "code",
   "execution_count": 22,
   "id": "7703e093-cad0-4e58-aefb-49f8d7d61fec",
   "metadata": {},
   "outputs": [
    {
     "data": {
      "text/plain": [
       "True"
      ]
     },
     "execution_count": 22,
     "metadata": {},
     "output_type": "execute_result"
    }
   ],
   "source": [
    "45 ==45.0"
   ]
  },
  {
   "cell_type": "code",
   "execution_count": 23,
   "id": "fdfb5656-3dbf-4911-8bcd-43e1c86499e7",
   "metadata": {},
   "outputs": [
    {
     "data": {
      "text/plain": [
       "False"
      ]
     },
     "execution_count": 23,
     "metadata": {},
     "output_type": "execute_result"
    }
   ],
   "source": [
    "'hi' == 'HI'"
   ]
  },
  {
   "cell_type": "code",
   "execution_count": 24,
   "id": "4bb3f093-d402-4107-9b22-0a5d930d6e67",
   "metadata": {},
   "outputs": [
    {
     "data": {
      "text/plain": [
       "'0b1100100'"
      ]
     },
     "execution_count": 24,
     "metadata": {},
     "output_type": "execute_result"
    }
   ],
   "source": [
    "bin(100)"
   ]
  },
  {
   "cell_type": "code",
   "execution_count": 25,
   "id": "7c5585ee-8293-4524-914e-531c747459b8",
   "metadata": {},
   "outputs": [
    {
     "data": {
      "text/plain": [
       "37"
      ]
     },
     "execution_count": 25,
     "metadata": {},
     "output_type": "execute_result"
    }
   ],
   "source": [
    "0b100101"
   ]
  },
  {
   "cell_type": "code",
   "execution_count": 28,
   "id": "08cfd0f0-895b-4513-bb6c-870ced2b24d3",
   "metadata": {},
   "outputs": [
    {
     "name": "stdout",
     "output_type": "stream",
     "text": [
      "7\n"
     ]
    }
   ],
   "source": [
    "a = 3\n",
    "b = 5\n",
    "print(a|b)"
   ]
  },
  {
   "cell_type": "code",
   "execution_count": 29,
   "id": "d5a4642a-92d0-4ffc-8a5e-982f1ba4aeb3",
   "metadata": {},
   "outputs": [
    {
     "name": "stdout",
     "output_type": "stream",
     "text": [
      "1\n"
     ]
    }
   ],
   "source": [
    "a = 3\n",
    "b = 5\n",
    "print(a & b)"
   ]
  },
  {
   "cell_type": "code",
   "execution_count": 30,
   "id": "be2dc20b-3cd9-46cd-ad96-2ae2c335b945",
   "metadata": {},
   "outputs": [
    {
     "data": {
      "text/plain": [
       "15"
      ]
     },
     "execution_count": 30,
     "metadata": {},
     "output_type": "execute_result"
    }
   ],
   "source": [
    "7|9"
   ]
  },
  {
   "cell_type": "code",
   "execution_count": 31,
   "id": "bc448f68-e738-4082-9e8c-33dc401ec77e",
   "metadata": {},
   "outputs": [
    {
     "data": {
      "text/plain": [
       "1"
      ]
     },
     "execution_count": 31,
     "metadata": {},
     "output_type": "execute_result"
    }
   ],
   "source": [
    "7 & 9"
   ]
  },
  {
   "cell_type": "code",
   "execution_count": 32,
   "id": "a75f2119-09c0-4bfd-a602-92a9a4fe4dc8",
   "metadata": {},
   "outputs": [
    {
     "data": {
      "text/plain": [
       "True"
      ]
     },
     "execution_count": 32,
     "metadata": {},
     "output_type": "execute_result"
    }
   ],
   "source": [
    "(1 > 2) or (2 < 3)"
   ]
  },
  {
   "cell_type": "code",
   "execution_count": 33,
   "id": "fc8ab69f-4fa0-42f5-913e-405e70c44aba",
   "metadata": {},
   "outputs": [
    {
     "data": {
      "text/plain": [
       "False"
      ]
     },
     "execution_count": 33,
     "metadata": {},
     "output_type": "execute_result"
    }
   ],
   "source": [
    "(1 > 2) and (2 < 3)"
   ]
  },
  {
   "cell_type": "code",
   "execution_count": 34,
   "id": "5d37b49c-a9f8-4ef5-b4dd-9e3f5d8557f9",
   "metadata": {},
   "outputs": [
    {
     "data": {
      "text/plain": [
       "False"
      ]
     },
     "execution_count": 34,
     "metadata": {},
     "output_type": "execute_result"
    }
   ],
   "source": [
    "not True"
   ]
  },
  {
   "cell_type": "code",
   "execution_count": 35,
   "id": "ee0886fc-8df3-42ff-a2e1-27b5f79ca160",
   "metadata": {},
   "outputs": [
    {
     "data": {
      "text/plain": [
       "True"
      ]
     },
     "execution_count": 35,
     "metadata": {},
     "output_type": "execute_result"
    }
   ],
   "source": [
    "not False"
   ]
  },
  {
   "cell_type": "code",
   "execution_count": 36,
   "id": "74241131-5787-4d8d-b86d-9a1a40c03e9f",
   "metadata": {},
   "outputs": [
    {
     "data": {
      "text/plain": [
       "True"
      ]
     },
     "execution_count": 36,
     "metadata": {},
     "output_type": "execute_result"
    }
   ],
   "source": [
    "my_str = 'lucky'\n",
    "my_str.isalpha() or str_example.isnum()"
   ]
  },
  {
   "cell_type": "code",
   "execution_count": 37,
   "id": "61917917-4406-4cd6-adc0-27005e068808",
   "metadata": {},
   "outputs": [
    {
     "data": {
      "text/plain": [
       "True"
      ]
     },
     "execution_count": 37,
     "metadata": {},
     "output_type": "execute_result"
    }
   ],
   "source": [
    "(2 == 2) and (2 == 3) or (4 == 4)"
   ]
  },
  {
   "cell_type": "code",
   "execution_count": 38,
   "id": "9277cf0f-54a3-4dce-97f6-551547b9716e",
   "metadata": {},
   "outputs": [
    {
     "data": {
      "text/plain": [
       "10"
      ]
     },
     "execution_count": 38,
     "metadata": {},
     "output_type": "execute_result"
    }
   ],
   "source": [
    "a = 10\n",
    "a"
   ]
  },
  {
   "cell_type": "code",
   "execution_count": 39,
   "id": "df043716-696c-4733-9342-798a89a64645",
   "metadata": {},
   "outputs": [
    {
     "name": "stdout",
     "output_type": "stream",
     "text": [
      "11\n"
     ]
    }
   ],
   "source": [
    "a = a +1\n",
    "print(a)"
   ]
  },
  {
   "cell_type": "code",
   "execution_count": 40,
   "id": "a26ccf6b-e5a7-40f6-9a1d-fa7a45c697a4",
   "metadata": {},
   "outputs": [
    {
     "data": {
      "text/plain": [
       "12"
      ]
     },
     "execution_count": 40,
     "metadata": {},
     "output_type": "execute_result"
    }
   ],
   "source": [
    "a +=1\n",
    "a"
   ]
  },
  {
   "cell_type": "code",
   "execution_count": 41,
   "id": "43c7303c-5165-4d84-8484-9bc804af215e",
   "metadata": {},
   "outputs": [
    {
     "data": {
      "text/plain": [
       "8"
      ]
     },
     "execution_count": 41,
     "metadata": {},
     "output_type": "execute_result"
    }
   ],
   "source": [
    "a -= 4\n",
    "a"
   ]
  },
  {
   "cell_type": "code",
   "execution_count": 42,
   "id": "0586c38c-1022-4973-a9bf-32ebb9f473d1",
   "metadata": {},
   "outputs": [
    {
     "name": "stdout",
     "output_type": "stream",
     "text": [
      "True\n"
     ]
    }
   ],
   "source": [
    "a = 5\n",
    "b = 5\n",
    "print ( a is b)"
   ]
  },
  {
   "cell_type": "code",
   "execution_count": 45,
   "id": "0c1b5980-b8ed-4f2f-99fd-ecbaf03807f1",
   "metadata": {},
   "outputs": [
    {
     "name": "stdout",
     "output_type": "stream",
     "text": [
      "False\n"
     ]
    }
   ],
   "source": [
    "s1 = 'satish'\n",
    "s2 = 'Satish'\n",
    "print(s1 is s2)"
   ]
  },
  {
   "cell_type": "code",
   "execution_count": 46,
   "id": "93652b2f-85e0-481a-9b9c-3be6922fcde9",
   "metadata": {},
   "outputs": [
    {
     "data": {
      "text/plain": [
       "True"
      ]
     },
     "execution_count": 46,
     "metadata": {},
     "output_type": "execute_result"
    }
   ],
   "source": [
    "a = 6\n",
    "b = 8\n",
    "a is not b"
   ]
  },
  {
   "cell_type": "code",
   "execution_count": 47,
   "id": "ee692726-f1ae-4481-8afb-eb65524d98b5",
   "metadata": {},
   "outputs": [
    {
     "data": {
      "text/plain": [
       "True"
      ]
     },
     "execution_count": 47,
     "metadata": {},
     "output_type": "execute_result"
    }
   ],
   "source": [
    "a = 'venkatesh'\n",
    "'esh' in a"
   ]
  },
  {
   "cell_type": "code",
   "execution_count": 48,
   "id": "b2d2f5b8-fdb1-4837-8ad7-b30a2458d643",
   "metadata": {},
   "outputs": [
    {
     "data": {
      "text/plain": [
       "True"
      ]
     },
     "execution_count": 48,
     "metadata": {},
     "output_type": "execute_result"
    }
   ],
   "source": [
    "lst = [1,2,3,4]\n",
    "1 in lst"
   ]
  },
  {
   "cell_type": "code",
   "execution_count": 49,
   "id": "1af8a2e8-daef-463f-b7e6-e2369f9f1891",
   "metadata": {},
   "outputs": [
    {
     "data": {
      "text/plain": [
       "True"
      ]
     },
     "execution_count": 49,
     "metadata": {},
     "output_type": "execute_result"
    }
   ],
   "source": [
    "a=[1,2,3,4,5,6]\n",
    "9 not in a"
   ]
  },
  {
   "cell_type": "code",
   "execution_count": null,
   "id": "ae177b79-9f7e-44b4-9716-ea04f260fe8c",
   "metadata": {},
   "outputs": [],
   "source": []
  }
 ],
 "metadata": {
  "kernelspec": {
   "display_name": "Python 3 (ipykernel)",
   "language": "python",
   "name": "python3"
  },
  "language_info": {
   "codemirror_mode": {
    "name": "ipython",
    "version": 3
   },
   "file_extension": ".py",
   "mimetype": "text/x-python",
   "name": "python",
   "nbconvert_exporter": "python",
   "pygments_lexer": "ipython3",
   "version": "3.11.7"
  }
 },
 "nbformat": 4,
 "nbformat_minor": 5
}
